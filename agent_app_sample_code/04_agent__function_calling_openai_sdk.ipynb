{
 "cells": [
  {
   "cell_type": "markdown",
   "metadata": {
    "application/vnd.databricks.v1+cell": {
     "cellMetadata": {},
     "inputWidgets": {},
     "nuid": "31661828-f9bb-4fc2-a1bd-94424a27ed52",
     "showTitle": false,
     "tableResultSettingsMap": {},
     "title": ""
    }
   },
   "source": [
    "# Agent\n",
    "\n",
    "Use this notebook to iterate on the code and configuration of your Agent.\n",
    "\n",
    "By the end of this notebook, you will have 1+ registered versions of your Agent, each coupled with a detailed quality evaluation.  To interact with this Agent through the Playground or share with your business stakeholders for feedback, use the following notebooks.\n",
    "\n",
    "For each version, you will have an MLflow run inside your MLflow experiment that contains:\n",
    "- Your Agent's code & config\n",
    "- Evaluation metrics for cost, quality, and latency"
   ]
  },
  {
   "cell_type": "markdown",
   "metadata": {
    "application/vnd.databricks.v1+cell": {
     "cellMetadata": {},
     "inputWidgets": {},
     "nuid": "3993f2ac-4cc0-484b-8129-5500b4879698",
     "showTitle": false,
     "tableResultSettingsMap": {},
     "title": ""
    }
   },
   "source": [
    "## 👉 START HERE: How to use this notebook\n",
    "\n",
    "We suggest the following approach to using this notebook to build and iterate on your Agent's quality.\n",
    "1. Build an initial version of your Agent by tweaking the smart default settings and code in this notebook.\n",
    "\n",
    "2. Vibe check & iterate on the Agent's quality to reach a \"not embarassingly bad\" level of quality.  Test 5 - 10 questions using MLflow Tracing & Agent Evaluation's quality root cause analysis to guide your iteration.\n",
    "\n",
    "3. Use the later notebooks to share your Agent with stakeholders to collect feedback that you will turn into an evaluation set with questions/correct responses labeled by your stakeholders.\n",
    "\n",
    "4. Use this notebook to Agent Evaluation using this evaluation set.\n",
    "\n",
    "5. Same as step 2, use MLflow Tracing & Agent Evaluation's quality root cause analysis to guide your iteration.  Iteratively try and evaluate various strategies to improve the quality of your agent and/or retriever.  For a deep dive on these strategies, view AI cookbook's [retrieval](https://ai-cookbook.io/nbs/5-hands-on-improve-quality-step-1-retrieval.html) and [generation](https://ai-cookbook.io/nbs/5-hands-on-improve-quality-step-1-generation.html) guides.\n",
    "\n",
    "6. Repeat step 3 to collect more feedback, then repeat steps 4 and 5 to further improve quality"
   ]
  },
  {
   "cell_type": "markdown",
   "metadata": {
    "application/vnd.databricks.v1+cell": {
     "cellMetadata": {},
     "inputWidgets": {},
     "nuid": "5d9f685a-fdb7-49a4-9e3a-a4a9e964d045",
     "showTitle": false,
     "tableResultSettingsMap": {},
     "title": ""
    }
   },
   "source": [
    "\n",
    "**Important note:** Throughout this notebook, we indicate which cell's code you:\n",
    "- ✅✏️ should customize - these cells contain code & config with business logic that you should edit to meet your requirements & tune quality.\n",
    "- 🚫✏️ should not customize - these cells contain boilerplate code required to load/save/execute your Agent\n",
    "\n",
    "*Cells that don't require customization still need to be run!  You CAN change these cells, but if this is the first time using this notebook, we suggest not doing so.*"
   ]
  },
  {
   "cell_type": "markdown",
   "metadata": {
    "application/vnd.databricks.v1+cell": {
     "cellMetadata": {},
     "inputWidgets": {},
     "nuid": "bb4f8cc0-1797-4beb-a9f2-df21a9db79f0",
     "showTitle": false,
     "tableResultSettingsMap": {},
     "title": ""
    }
   },
   "source": [
    "### 🚫✏️ Install Python libraries\n",
    "\n",
    "You do not need to modify this cell unless you need additional Python packages in your Agent."
   ]
  },
  {
   "cell_type": "code",
   "execution_count": 0,
   "metadata": {
    "application/vnd.databricks.v1+cell": {
     "cellMetadata": {},
     "inputWidgets": {},
     "nuid": "6d4030e8-ae97-4351-bebd-9651d283578f",
     "showTitle": false,
     "tableResultSettingsMap": {},
     "title": ""
    }
   },
   "outputs": [],
   "source": [
    "%pip install -qqqq -U -r requirements.txt\n",
    "# Restart to load the packages into the Python environment\n",
    "dbutils.library.restartPython()"
   ]
  },
  {
   "cell_type": "code",
   "execution_count": 1,
   "metadata": {
    "application/vnd.databricks.v1+cell": {
     "cellMetadata": {},
     "inputWidgets": {},
     "nuid": "b1f99671-d37c-4b52-87e5-283cb39cd460",
     "showTitle": false,
     "tableResultSettingsMap": {},
     "title": ""
    }
   },
   "outputs": [],
   "source": [
    "# Shared imports\n",
    "from datetime import datetime\n",
    "# from IPython.display import display_markdown"
   ]
  },
  {
   "cell_type": "markdown",
   "metadata": {},
   "source": [
    "### 🚫✏️ Connect to Databricks\n",
    "\n",
    "If running locally in an IDE using Databricks Connect, connect the Spark client & configure MLflow to use Databricks Managed MLflow.  If this running in a Databricks Notebook, these values are already set."
   ]
  },
  {
   "cell_type": "code",
   "execution_count": 2,
   "metadata": {},
   "outputs": [],
   "source": [
    "from mlflow.utils import databricks_utils as du\n",
    "\n",
    "if not du.is_in_databricks_notebook():\n",
    "    from databricks.connect import DatabricksSession\n",
    "    import os\n",
    "\n",
    "    spark = DatabricksSession.builder.getOrCreate()\n",
    "    os.environ[\"MLFLOW_TRACKING_URI\"] = \"databricks\""
   ]
  },
  {
   "cell_type": "markdown",
   "metadata": {},
   "source": [
    "### 🚫✏️ Load the Agent's storage locations\n",
    "\n",
    "This notebook uses the UC model, MLflow Experiment, and Evaluation Set that you specified in the [Agent setup](02_agent_setup.ipynb) notebook."
   ]
  },
  {
   "cell_type": "code",
   "execution_count": 1,
   "metadata": {},
   "outputs": [
    {
     "data": {
      "text/plain": [
       "<Experiment: artifact_location='file:///Users/eric.peter/Github/genai-cookbook/agent_app_sample_code/mlruns/875381203371509471', creation_time=1730832700880, experiment_id='875381203371509471', last_update_time=1730832700880, lifecycle_stage='active', name='/Users/eric.peter@databricks.com/my_agent_mlflow_experiment', tags={}>"
      ]
     },
     "execution_count": 1,
     "metadata": {},
     "output_type": "execute_result"
    }
   ],
   "source": [
    "from cookbook.config.common.agent_storage_locations import AgentStorageConfig\n",
    "import mlflow \n",
    "\n",
    "# Load the Agent's storage configuration\n",
    "agent_storage_config = AgentStorageConfig.from_yaml_file('./configs/agent_storage_config.yaml')\n",
    "\n",
    "mlflow.set_experiment(agent_storage_config.mlflow_experiment_name)"
   ]
  },
  {
   "cell_type": "code",
   "execution_count": 2,
   "metadata": {},
   "outputs": [],
   "source": [
    "%load_ext autoreload\n",
    "%autoreload 2\n"
   ]
  },
  {
   "cell_type": "markdown",
   "metadata": {
    "application/vnd.databricks.v1+cell": {
     "cellMetadata": {},
     "inputWidgets": {},
     "nuid": "11517f57-1b79-40c5-b4cc-feaac05a86dc",
     "showTitle": false,
     "tableResultSettingsMap": {},
     "title": ""
    }
   },
   "source": [
    "## 0️⃣ Setup: Load the Agent's configuration that is shared with the other notebooks"
   ]
  },
  {
   "cell_type": "markdown",
   "metadata": {
    "application/vnd.databricks.v1+cell": {
     "cellMetadata": {},
     "inputWidgets": {},
     "nuid": "9933d05f-29fa-452e-abdc-2a02328fbe22",
     "showTitle": false,
     "tableResultSettingsMap": {},
     "title": ""
    }
   },
   "source": [
    "\n",
    "## 1️⃣ Iterate on the Agent's code & config to improve quality\n",
    "\n",
    "The below cells are used to execute your inner dev loop to improve the Agent's quality.\n",
    "\n",
    "If you are creating this Agent for the first time, you will:\n",
    "1. Review the smart defaults provided in the Agent's code & configuration\n",
    "2. Vibe check the Agent for 1 query to verify it works\n",
    "\n",
    "We suggest the following inner dev loop:\n",
    "1. Run the Agent for 1+ queries or your evaluation set\n",
    "2. Determine if the Agent's output is correct for those queries e.g., high quality\n",
    "3. Based on that assessment, make changes to the code/config to improve quality\n",
    "4. 🔁 Re-run the Agent for the same queries, repeating this cycle.\n",
    "5. Once you have a version of the Agent with sufficient quality, log the Agent to MLflow\n",
    "6. Use the next notebooks to share the Agent with your stakeholders & collect feedback\n",
    "7. Add stakeholder's queries & feedback to your evaluation set\n",
    "8. 🔁 Use that evaluation set to repeat this cycle"
   ]
  },
  {
   "cell_type": "markdown",
   "metadata": {
    "application/vnd.databricks.v1+cell": {
     "cellMetadata": {},
     "inputWidgets": {},
     "nuid": "fcf025b6-c0df-4095-bca2-21540fa71fc4",
     "showTitle": false,
     "tableResultSettingsMap": {},
     "title": ""
    }
   },
   "source": [
    "\n",
    "### ✅✏️ Change the Agent's code & config"
   ]
  },
  {
   "cell_type": "markdown",
   "metadata": {
    "application/vnd.databricks.v1+cell": {
     "cellMetadata": {},
     "inputWidgets": {},
     "nuid": "8bed2f45-87f7-4cf8-90b2-e90bdde87fc9",
     "showTitle": false,
     "tableResultSettingsMap": {},
     "title": ""
    }
   },
   "source": [
    "#### ✅✏️ ⚙️ Adjust the Agent's configuration\n",
    "\n",
    "Here, we parameterize your Agent's code with common settings you will tune to improve quality, such as prompts.\n",
    "\n",
    "> *Note: Our template Agents use [Pydantic](https://docs.pydantic.dev/latest/) models, which are thin wrappers around Python dictionaries.  Pydantic allows us to define the initial parameters Databricks suggests for tuning quality and allows this notebook to validate parameters changes you make. It also provides type-checking for config objects and IDE-friendly property name references.*\n",
    "\n",
    "We use Pydantic to define tools and support automatically serializing their classnames and configs to YAML that can be\n",
    "loaded back. To implement new tools, implement a new subclass of `utils.agents.tools.BaseTool` and pass it to `AgentConfig` below.\n",
    "\n",
    "You can (and often will need to) add or adjust the parameters in our template.  To add/modify/delete a parameter, you can modify the Pydantic classes in modules under `utils.agents`"
   ]
  },
  {
   "cell_type": "code",
   "execution_count": 8,
   "metadata": {
    "application/vnd.databricks.v1+cell": {
     "cellMetadata": {},
     "inputWidgets": {},
     "nuid": "56f3db0b-eee1-4f9b-b2ce-8b829338ba9d",
     "showTitle": false,
     "tableResultSettingsMap": {},
     "title": ""
    }
   },
   "outputs": [],
   "source": [
    "# Import Pydantic models\n",
    "from cookbook.config.agents.function_calling_agent import (\n",
    "    FunctionCallingAgentConfig,\n",
    ")\n",
    "from cookbook.config.common.llm import LLMConfig, LLMParametersConfig\n",
    "from cookbook.config.tools.vector_search_tool import (\n",
    "    VectorSearchRetriever,\n",
    "    VectorSearchRetrieverTool,\n",
    "    VectorSearchRetrieverTool,\n",
    "    VectorSearchParameters,\n",
    "    VectorSearchSchema,\n",
    ")\n",
    "from agent_app_sample_code._scratch_pad.old_configs import get_agent_dependencies, log_pyfunc_agent\n",
    "import json\n",
    "import yaml\n",
    "\n",
    "# # View Retriever config documentation by inspecting the docstrings\n",
    "#\n",
    "# print(VectorSearchRetrieverConfig.__doc__)\n",
    "# print(RetrieverOutputSchema.__doc__)\n",
    "#\n",
    "# # View documentation for the parameters by inspecting the docstring\n",
    "#\n",
    "# print(LLMConfig.__doc__)\n",
    "# print(LLMParametersConfig.__doc__)\n",
    "# print(AgentConfig.__doc__)"
   ]
  },
  {
   "cell_type": "markdown",
   "metadata": {},
   "source": [
    "Dev loop\n",
    "\n",
    "* Create a tool fn in a python file\n",
    "* develop a bunch of test cases (queries, expected params, tool outputs, expected llm response)\n",
    "* Unit test that tool locally\n",
    "* deploy it to the UC\n",
    "* re-run tests for the UC tool\n",
    "* test it in the agent alone to make sure params are set right \n"
   ]
  },
  {
   "cell_type": "code",
   "execution_count": 4,
   "metadata": {},
   "outputs": [
    {
     "name": "stdout",
     "output_type": "stream",
     "text": [
      "The autoreload extension is already loaded. To reload it, use:\n",
      "  %reload_ext autoreload\n"
     ]
    }
   ],
   "source": [
    "%load_ext autoreload\n",
    "%reload_ext autoreload\n",
    "%autoreload 2\n"
   ]
  },
  {
   "cell_type": "code",
   "execution_count": 11,
   "metadata": {},
   "outputs": [
    {
     "name": "stdout",
     "output_type": "stream",
     "text": [
      "FunctionInfo(browse_only=None, catalog_name='ep', comment='Translates a pre-2024 SKU formatted as \"OLD-XXX-YYYY\" to the new SKU format \"NEW-YYYY-XXX\".', created_at=1730834698067, created_by='eric.peter@databricks.com', data_type=<ColumnTypeName.STRING: 'STRING'>, external_language='Python', external_name=None, full_data_type='STRING', full_name='ep.cookbook_local_test.translate_sku', function_id='0681f6af-e649-470c-a13d-717ba2ad5b3c', input_params=FunctionParameterInfos(parameters=[FunctionParameterInfo(name='old_sku', type_text='string', type_name=<ColumnTypeName.STRING: 'STRING'>, position=0, comment='The old SKU in the format \"OLD-XXX-YYYY\".', parameter_default=None, parameter_mode=None, parameter_type=<FunctionParameterType.PARAM: 'PARAM'>, type_interval_type=None, type_json='{\"name\":\"old_sku\",\"type\":\"string\",\"nullable\":true,\"metadata\":{\"comment\":\"The old SKU in the format \\\\\"OLD-XXX-YYYY\\\\\".\"}}', type_precision=0, type_scale=0)]), is_deterministic=False, is_null_call=None, metastore_id='19a85dee-54bc-43a2-87ab-023d0ec16013', name='translate_sku', owner='eric.peter@databricks.com', parameter_style=<FunctionInfoParameterStyle.S: 'S'>, properties='{\"sqlConfig.spark.sql.ansi.enabled\":\"true\",\"sqlConfig.spark.sql.streaming.statefulOperator.stateRebalancing.enabled\":\"false\",\"sqlConfig.spark.sql.legacy.createHiveTableByDefault\":\"false\",\"sqlConfig.spark.sql.shuffleDependency.skipMigration.enabled\":\"true\",\"sqlConfig.spark.sql.streaming.stopTimeout\":\"15s\",\"sqlConfig.spark.databricks.sql.functions.builtInHttpReq.enabled\":\"true\",\"sqlConfig.spark.sql.readSideCharPadding\":\"true\",\"sqlConfig.spark.sql.variable.substitute\":\"false\",\"sqlConfig.spark.databricks.sql.functions.aiForecast.enabled\":\"true\",\"sqlConfig.spark.sql.sources.default\":\"delta\",\"sqlConfig.spark.sql.hive.convertCTAS\":\"true\",\"sqlConfig.spark.databricks.sql.functions.vectorSearch.enabled\":\"true\",\"sqlConfig.spark.sql.functions.remoteHttpClient.retryOnSocketTimeoutException\":\"true\",\"sqlConfig.spark.sql.sources.commitProtocolClass\":\"com.databricks.sql.transaction.directory.DirectoryAtomicCommitProtocol\",\"sqlConfig.spark.sql.functions.remoteHttpClient.retryOn400TimeoutError\":\"true\",\"sqlConfig.spark.sql.stableDerivedColumnAlias.enabled\":\"true\",\"sqlConfig.spark.sql.parquet.compression.codec\":\"snappy\",\"sqlConfig.spark.sql.streaming.stateStore.providerClass\":\"com.databricks.sql.streaming.state.RocksDBStateStoreProvider\"}', return_params=None, routine_body=<FunctionInfoRoutineBody.EXTERNAL: 'EXTERNAL'>, routine_definition='\\n    import re\\n    # Define the regex pattern for the old SKU format\\n    pattern = r\"^OLD-([A-Z]{3})-(\\\\d{4})$\"\\n    # Match the old SKU against the pattern\\n    match = re.match(pattern, old_sku)\\n    if not match:\\n        return \"Error: Invalid SKU format\"\\n    # Extract the letter code and numeric part\\n    letter_code, numeric_part = match.groups()\\n    # Construct the new SKU by swapping the parts\\n    new_sku = f\"NEW-{numeric_part}-{letter_code}\"\\n    return new_sku\\n', routine_dependencies=None, schema_name='cookbook_local_test', security_type=<FunctionInfoSecurityType.DEFINER: 'DEFINER'>, specific_name='translate_sku', sql_data_access=<FunctionInfoSqlDataAccess.NO_SQL: 'NO_SQL'>, sql_path=None, updated_at=1730834698067, updated_by='eric.peter@databricks.com')\n"
     ]
    }
   ],
   "source": [
    "from databricks.sdk import WorkspaceClient\n",
    "from databricks.sdk.errors import ResourceDoesNotExist\n",
    "w = WorkspaceClient()\n",
    "try:\n",
    "    t = w.functions.get(name=\"ep.cookbook_local_test.translate_sku\")\n",
    "    print(t)\n",
    "except ResourceDoesNotExist:\n",
    "    print(\"Function does not exist\")\n"
   ]
  },
  {
   "cell_type": "code",
   "execution_count": 32,
   "metadata": {},
   "outputs": [],
   "source": [
    "%autoreload 2"
   ]
  },
  {
   "cell_type": "code",
   "execution_count": 1,
   "metadata": {},
   "outputs": [],
   "source": [
    "from cookbook.config.tools.uc_tool import UCTool\n",
    "\n",
    "tool = UCTool(uc_function_name=\"ep.cookbook_local_test.translate_sku\")\n",
    "\n",
    "# tool(old_sku=\"123456\")\n",
    "\n",
    "test = tool.name\n",
    "\n",
    "json.dumps(tool.get_json_schema())\n",
    "\n",
    "# print(test)\n",
    "\n",
    "data = tool.to_yaml()  \n",
    "\n",
    "with open(\"./configs/tool_test.yaml\", \"w\") as handle:\n",
    "    handle.write(data)"
   ]
  },
  {
   "cell_type": "code",
   "execution_count": 2,
   "metadata": {},
   "outputs": [
    {
     "data": {
      "text/plain": [
       "UCTool(name='ep__cookbook_local_test__translate_sku', description='Translates a pre-2024 SKU formatted as \"OLD-XXX-YYYY\" to the new SKU format \"NEW-YYYY-XXX\".', uc_function_name='ep.cookbook_local_test.translate_sku', error_prompt='Error in generated code.  Please think step-by-step about how to fix the error and try calling this tool again with corrected inputs that reflect this thinking.')"
      ]
     },
     "execution_count": 2,
     "metadata": {},
     "output_type": "execute_result"
    }
   ],
   "source": [
    "from cookbook.config.base import load_serializable_config_from_yaml\n",
    "\n",
    "with open(\"./configs/tool_test.yaml\", \"r\") as handle:\n",
    "    data = handle.read()\n",
    "\n",
    "model = load_serializable_config_from_yaml(data)\n",
    "\n",
    "model"
   ]
  },
  {
   "cell_type": "code",
   "execution_count": 26,
   "metadata": {},
   "outputs": [
    {
     "data": {
      "text/plain": [
       "{'type': 'function',\n",
       " 'function': {'name': 'ep__cookbook_local_test__translate_sku',\n",
       "  'strict': True,\n",
       "  'parameters': {'properties': {'old_sku': {'anyOf': [{'type': 'string'},\n",
       "      {'type': 'null'}],\n",
       "     'description': 'The old SKU in the format \"OLD-XXX-YYYY\".',\n",
       "     'title': 'Old Sku'}},\n",
       "   'title': 'ep__cookbook_local_test__translate_sku__params',\n",
       "   'type': 'object',\n",
       "   'additionalProperties': False,\n",
       "   'required': ['old_sku']},\n",
       "  'description': 'Translates a pre-2024 SKU formatted as \"OLD-XXX-YYYY\" to the new SKU format \"NEW-YYYY-XXX\".'}}"
      ]
     },
     "execution_count": 26,
     "metadata": {},
     "output_type": "execute_result"
    }
   ],
   "source": [
    "\n",
    "from unitycatalog.ai.openai.toolkit import UCFunctionToolkit\n",
    "from unitycatalog.ai.core.databricks import DatabricksFunctionClient\n",
    "\n",
    "uc_client = DatabricksFunctionClient()\n",
    "\n",
    "f=uc_client.get_function(function_name=\"ep.cookbook_local_test.translate_sku\")\n",
    "\n",
    "f.comment\n",
    "f.name\n",
    "\n",
    "toolkit = UCFunctionToolkit(\n",
    "            function_names=[\"ep.cookbook_local_test.translate_sku\"], client=uc_client\n",
    "        )\n",
    "\n",
    "toolkit.tools[0]\n",
    "\n"
   ]
  },
  {
   "cell_type": "code",
   "execution_count": 1,
   "metadata": {},
   "outputs": [],
   "source": [
    "%load_ext autoreload\n",
    "%autoreload 2\n"
   ]
  },
  {
   "cell_type": "code",
   "execution_count": 2,
   "metadata": {},
   "outputs": [
    {
     "data": {
      "text/plain": [
       "'{\"type\": \"function\", \"function\": {\"name\": \"search_product_docs\", \"description\": \"Use this tool to search for product documentation.\", \"parameters\": {\"type\": \"object\", \"required\": [\"query\"], \"additionalProperties\": false, \"properties\": {\"query\": {\"description\": \"query to look up in retriever\", \"type\": \"string\"}}}}}'"
      ]
     },
     "execution_count": 2,
     "metadata": {},
     "output_type": "execute_result"
    }
   ],
   "source": [
    "from cookbook.config.tools.vector_search_tool import VectorSearchRetrieverTool, VectorSearchSchema, VectorSearchParameters\n",
    "# from utils.agents.tools_2 import load_obj_from_yaml\n",
    "retriever_config = VectorSearchRetrieverTool(\n",
    "    name=\"search_product_docs\",\n",
    "    description=\"Use this tool to search for product documentation.\",\n",
    "    vector_search_index=\"ep.cookbook_local_test.my_pdfs_docs_chunked_index__v1\",\n",
    "    vector_search_schema=VectorSearchSchema(\n",
    "        chunk_text=\"content_chunked\",\n",
    "        document_uri=\"doc_uri\",\n",
    "        additional_metadata_columns=[\"parser_status\"]\n",
    "    ),\n",
    "    # doc_similarity_threshold=0.0,\n",
    "    # vector_search_parameters=VectorSearchParameters(\n",
    "    #     num_results=5,\n",
    "    #     query_type=\"ann\"\n",
    "    # ),\n",
    "    # filterable_columns=[\"doc_uri\", \"chunk_id\"]\n",
    ")\n",
    "\n",
    "retriever_config.filterable_columns_descriptions_for_llm\n",
    "\n",
    "filters = [{\"field\": \"doc_uri\", \"filter\": \"/Volumes/ep/cookbook_local_test/source_docs/Updating RAG Studio to Ingest PDFs.pdf\"}]\n",
    "\n",
    "# retriever_config(query=\"test\", filters=filters)\n",
    "\n",
    "# data = retriever_config.to_yaml()  \n",
    "\n",
    "# with open(\"./configs/test.yaml\", \"w\") as handle:\n",
    "#     handle.write(data)\n",
    "\n",
    "# retriever_config.filterable_columns_descriptions_for_llm\n",
    "# retriever_config.vector_search_schema.all_columns\n",
    "json.dumps(retriever_config.get_json_schema())"
   ]
  },
  {
   "cell_type": "code",
   "execution_count": 3,
   "metadata": {},
   "outputs": [
    {
     "data": {
      "text/plain": [
       "{'name': 'search_product_docs',\n",
       " 'description': 'Use this tool to search for product documentation.',\n",
       " 'vector_search_index': 'ep.cookbook_local_test.my_pdfs_docs_chunked_index__v1',\n",
       " 'filterable_columns': [],\n",
       " 'vector_search_schema': {'chunk_text': 'content_chunked',\n",
       "  'document_uri': 'doc_uri',\n",
       "  'additional_metadata_columns': ['parser_status']},\n",
       " 'doc_similarity_threshold': 0.0,\n",
       " 'vector_search_parameters': {'num_results': 5, 'query_type': 'ann'},\n",
       " 'retriever_query_parameter_prompt': 'query to look up in retriever',\n",
       " 'retriever_filter_parameter_prompt': 'optional filters to apply to the search. An array of objects, each specifying a field name and the filters to apply to that field.',\n",
       " 'class_path': 'utils.agents.vector_search.VectorSearchRetrieverTool'}"
      ]
     },
     "execution_count": 3,
     "metadata": {},
     "output_type": "execute_result"
    }
   ],
   "source": [
    "retriever_config.model_dump()"
   ]
  },
  {
   "cell_type": "code",
   "execution_count": 161,
   "metadata": {},
   "outputs": [
    {
     "data": {
      "text/plain": [
       "['parser_status', 'content_chunked', 'chunk_id', 'doc_uri']"
      ]
     },
     "execution_count": 161,
     "metadata": {},
     "output_type": "execute_result"
    }
   ],
   "source": [
    "from cookbook.config.base import load_serializable_config_from_yaml\n",
    "\n",
    "with open(\"./configs/test.yaml\", \"r\") as handle:\n",
    "    data = handle.read()\n",
    "\n",
    "model = load_serializable_config_from_yaml(data)\n",
    "\n",
    "model.vector_search_schema.all_columns"
   ]
  },
  {
   "cell_type": "code",
   "execution_count": 66,
   "metadata": {},
   "outputs": [
    {
     "name": "stdout",
     "output_type": "stream",
     "text": [
      "Column: chunk_id\n",
      "Column: string\n",
      "Column: Unique identifier for each chunk of data in the document.\n",
      "57\n",
      "Column: content_chunked\n",
      "Column: string\n",
      "Column: \n",
      "0\n",
      "Column: parser_status\n",
      "Column: string\n",
      "Column: Represents the status of the document parsing process for the chunk.\n",
      "68\n",
      "Column: doc_uri\n",
      "Column: string\n",
      "Column: The unique identifier for the document, allowing easy reference and tracking.\n",
      "77\n",
      "Column: last_modified\n",
      "Column: timestamp\n",
      "Column: The timestamp indicating when the chunk was last modified, providing a way to track changes and updates.\n",
      "104\n",
      "Column: content_chunked_array\n",
      "Column: array<string>\n",
      "Column: None\n"
     ]
    },
    {
     "ename": "TypeError",
     "evalue": "object of type 'NoneType' has no len()",
     "output_type": "error",
     "traceback": [
      "\u001b[0;31m---------------------------------------------------------------------------\u001b[0m",
      "\u001b[0;31mTypeError\u001b[0m                                 Traceback (most recent call last)",
      "Cell \u001b[0;32mIn[66], line 8\u001b[0m\n\u001b[1;32m      6\u001b[0m \u001b[38;5;28mprint\u001b[39m(\u001b[38;5;124mf\u001b[39m\u001b[38;5;124m\"\u001b[39m\u001b[38;5;124mColumn: \u001b[39m\u001b[38;5;132;01m{\u001b[39;00mcolumn\u001b[38;5;241m.\u001b[39mtype_text\u001b[38;5;132;01m}\u001b[39;00m\u001b[38;5;124m\"\u001b[39m)\n\u001b[1;32m      7\u001b[0m \u001b[38;5;28mprint\u001b[39m(\u001b[38;5;124mf\u001b[39m\u001b[38;5;124m\"\u001b[39m\u001b[38;5;124mColumn: \u001b[39m\u001b[38;5;132;01m{\u001b[39;00mcolumn\u001b[38;5;241m.\u001b[39mcomment\u001b[38;5;132;01m}\u001b[39;00m\u001b[38;5;124m\"\u001b[39m)\n\u001b[0;32m----> 8\u001b[0m \u001b[38;5;28mprint\u001b[39m(\u001b[38;5;28;43mlen\u001b[39;49m\u001b[43m(\u001b[49m\u001b[43mcolumn\u001b[49m\u001b[38;5;241;43m.\u001b[39;49m\u001b[43mcomment\u001b[49m\u001b[43m)\u001b[49m)\n",
      "\u001b[0;31mTypeError\u001b[0m: object of type 'NoneType' has no len()"
     ]
    }
   ],
   "source": [
    "table = \"ep.cookbook_local_test.my_pdfs_docs_chunked__v1_test\"\n",
    "table_info = w.tables.get(table)\n",
    "# print(f\"Table info: {table_info.columns}\")\n",
    "for column in table_info.columns:\n",
    "    print(f\"Column: {column.name}\")\n",
    "    print(f\"Column: {column.type_text}\")\n",
    "    print(f\"Column: {column.comment}\")\n",
    "    print(len(column.comment))"
   ]
  },
  {
   "cell_type": "code",
   "execution_count": 40,
   "metadata": {},
   "outputs": [
    {
     "name": "stdout",
     "output_type": "stream",
     "text": [
      "Source table: ep.cookbook_local_test.my_pdfs_docs_chunked__v1\n",
      "Primary key: chunk_id\n",
      "VectorIndex(creator='eric.peter@databricks.com', delta_sync_index_spec=DeltaSyncVectorIndexSpecResponse(embedding_source_columns=[EmbeddingSourceColumn(embedding_model_endpoint_name='databricks-gte-large-en', name='content_chunked')], embedding_vector_columns=[], embedding_writeback_table=None, pipeline_id='de6852cf-94f7-4f17-a12d-660d3968398b', pipeline_type=<PipelineType.TRIGGERED: 'TRIGGERED'>, source_table='ep.cookbook_local_test.my_pdfs_docs_chunked__v1'), direct_access_index_spec=None, endpoint_name='ericpeter_vector_search', index_type=<VectorIndexType.DELTA_SYNC: 'DELTA_SYNC'>, name='ep.cookbook_local_test.test', primary_key='chunk_id', status=VectorIndexStatus(index_url='e2-dogfood.staging.cloud.databricks.com/api/2.0/vector-search/endpoints/ericpeter_vector_search/indexes/ep.cookbook_local_test.test', indexed_row_count=1, message='Index creation succeeded. Check latest status: https://e2-dogfood.staging.cloud.databricks.com/explore/data/ep/cookbook_local_test/test', ready=True))\n",
      "Column: chunk_id\n",
      "Column: string\n",
      "Column: Unique identifier for each chunk of data in the document.\n",
      "57\n",
      "Column: content_chunked\n",
      "Column: string\n",
      "Column: \n",
      "0\n",
      "Column: parser_status\n",
      "Column: string\n",
      "Column: Represents the status of the document parsing process for the chunk.\n",
      "68\n",
      "Column: doc_uri\n",
      "Column: string\n",
      "Column: The unique identifier for the document, allowing easy reference and tracking.\n",
      "77\n",
      "Column: last_modified\n",
      "Column: timestamp\n",
      "Column: The timestamp indicating when the chunk was last modified, providing a way to track changes and updates.\n",
      "104\n"
     ]
    }
   ],
   "source": [
    "from databricks.sdk.service.vectorsearch import VectorIndexType\n",
    "index_info = w.vector_search_indexes.get_index(\"ep.cookbook_local_test.my_pdfs_docs_chunked_index__v1\")\n",
    "index_info = w.vector_search_indexes.get_index(\"ep.cookbook_local_test.test\")\n",
    "\n",
    "index_info.as_dict()\n",
    "\n",
    "index_type = index_info.index_type\n",
    "if index_type == VectorIndexType.DELTA_SYNC:\n",
    "    source_table = index_info.delta_sync_index_spec.source_table\n",
    "    print(f\"Source table: {source_table}\")\n",
    "    primary_key = index_info.primary_key\n",
    "    print(f\"Primary key: {primary_key}\")\n",
    "    print(index_info)\n",
    "    table_info = w.tables.get(source_table)\n",
    "    # print(f\"Table info: {table_info.columns}\")\n",
    "    for column in table_info.columns:\n",
    "        print(f\"Column: {column.name}\")\n",
    "        print(f\"Column: {column.type_text}\")\n",
    "        print(f\"Column: {column.comment}\")\n",
    "        print(len(column.comment))\n",
    "\n",
    "# index_type"
   ]
  },
  {
   "cell_type": "code",
   "execution_count": null,
   "metadata": {},
   "outputs": [],
   "source": [
    "VectorSearchRetrieverTool(\n",
    "            vector_search_retriever=VectorSearchRetriever(retriever_config),\n",
    "            # the prompt used to describe when the tool so the LLM can decide when it is relevant to call.\n",
    "            tool_description_prompt=\"Search for documents that are relevant to a user's query about the [REPLACE WITH DESCRIPTION OF YOUR DOCS].\",\n",
    "            # the prompt that describes the tool's name.  Used in combination with `tool_description_prompt` to describe when the tool so the LLM can decide when it is relevant to call.\n",
    "            tool_name=\"retrieve_documents\",\n",
    "            # Retriever prompts: Tune these prompts if the Agent uses the retriever incorrectly e.g., doesn't call the retriever tool for the right queries or translates the user's intent to a query incorrectly.\n",
    "            retriever_query_parameter_prompt=\"The query to find documents for.\",  # the prompt used to describe what inputs should go in the 'query' parameter which is used by the vector index to search for relevant documents\n",
    "            retriever_filter_parameter_prompt=\"Optional filters to apply to the search. An array of objects, each specifying a field name and the filters to apply to that field.\",\n",
    "        )\n",
    "\n"
   ]
  },
  {
   "cell_type": "code",
   "execution_count": null,
   "metadata": {},
   "outputs": [],
   "source": []
  },
  {
   "cell_type": "code",
   "execution_count": 58,
   "metadata": {},
   "outputs": [
    {
     "data": {
      "text/plain": [
       "{'name': 'search_customer_info',\n",
       " 'description': 'Use this tool to find customer info',\n",
       " 'vector_search_index': 'ep.cookbook_local_test.my_pdfs_docs_chunked_index__v1',\n",
       " 'filterable_columns': [],\n",
       " 'vector_search_schema': {'chunk_text': 'content_chunked',\n",
       "  'document_uri': 'doc_uri',\n",
       "  'additional_metadata_columns': ['parser_status']},\n",
       " 'doc_similarity_threshold': 0.0,\n",
       " 'vector_search_parameters': {'num_results': 5, 'query_type': 'ann'},\n",
       " 'retriever_query_parameter_prompt': 'query to look up in retriever',\n",
       " 'retriever_filter_parameter_prompt': 'optional filters to apply to the search. An array of objects, each specifying a field name and the filters to apply to that field.'}"
      ]
     },
     "execution_count": 58,
     "metadata": {},
     "output_type": "execute_result"
    }
   ],
   "source": [
    "retriever_tool.model_dump()"
   ]
  },
  {
   "cell_type": "code",
   "execution_count": 1,
   "metadata": {
    "application/vnd.databricks.v1+cell": {
     "cellMetadata": {},
     "inputWidgets": {},
     "nuid": "7546f1ce-5afd-4399-804a-246073041d6b",
     "showTitle": false,
     "tableResultSettingsMap": {},
     "title": ""
    }
   },
   "outputs": [
    {
     "name": "stdout",
     "output_type": "stream",
     "text": [
      "{\n",
      "    \"tools\": [\n",
      "        {\n",
      "            \"class_path\": \"utils.agents.vector_search.VectorSearchRetrieverTool\",\n",
      "            \"description\": \"Use this tool to find customer info\",\n",
      "            \"doc_similarity_threshold\": 0.0,\n",
      "            \"filterable_columns\": [],\n",
      "            \"name\": \"search_customer_info\",\n",
      "            \"retriever_filter_parameter_prompt\": \"optional filters to apply to the search. An array of objects, each specifying a field name and the filters to apply to that field.\",\n",
      "            \"retriever_query_parameter_prompt\": \"query to look up in retriever\",\n",
      "            \"vector_search_index\": \"ep.cookbook_local_test.my_pdfs_docs_chunked_index__v1\",\n",
      "            \"vector_search_parameters\": {\n",
      "                \"num_results\": 5,\n",
      "                \"query_type\": \"ann\"\n",
      "            },\n",
      "            \"vector_search_schema\": {\n",
      "                \"additional_metadata_columns\": [\n",
      "                    \"parser_status\"\n",
      "                ],\n",
      "                \"chunk_text\": \"content_chunked\",\n",
      "                \"document_uri\": \"doc_uri\"\n",
      "            }\n",
      "        },\n",
      "        {\n",
      "            \"class_path\": \"utils.agents.uc_tool.UCTool\",\n",
      "            \"error_prompt\": \"Error in generated code.  Please think step-by-step about how to fix the error and try calling this tool again with corrected inputs that reflect this thinking.\",\n",
      "            \"uc_function_name\": \"ep.cookbook_local_test.translate_sku\"\n",
      "        },\n",
      "        {\n",
      "            \"class_path\": \"utils.agents.vector_search.VectorSearchRetrieverTool\",\n",
      "            \"description\": \"Use this tool to search for product documentation.\",\n",
      "            \"doc_similarity_threshold\": 0.0,\n",
      "            \"filterable_columns\": [\n",
      "                \"section_headers\"\n",
      "            ],\n",
      "            \"name\": \"search_product_docs\",\n",
      "            \"retriever_filter_parameter_prompt\": \"optional filters to apply to the search. An array of objects, each specifying a field name and the filters to apply to that field.\",\n",
      "            \"retriever_query_parameter_prompt\": \"query to look up in retriever\",\n",
      "            \"vector_search_index\": \"ericpeter_catalog.agents.db_docs_app_chunked_docs_index\",\n",
      "            \"vector_search_parameters\": {\n",
      "                \"num_results\": 5,\n",
      "                \"query_type\": \"ann\"\n",
      "            },\n",
      "            \"vector_search_schema\": {\n",
      "                \"additional_metadata_columns\": [\n",
      "                    \"section_headers\"\n",
      "                ],\n",
      "                \"chunk_text\": \"content_chunked\",\n",
      "                \"document_uri\": \"doc_uri\"\n",
      "            }\n",
      "        }\n",
      "    ],\n",
      "    \"llm_config\": {\n",
      "        \"llm_endpoint_name\": \"ep-gpt4o-new\",\n",
      "        \"llm_system_prompt_template\": \"You are a helpful assistant that answers questions by calling tools.  Provide responses ONLY based on the outputs from tools.  If you do not have a relevant tool for a question, respond with 'Sorry, I'm not trained to answer that question'.\",\n",
      "        \"llm_parameters\": {\n",
      "            \"temperature\": 0.01,\n",
      "            \"max_tokens\": 1500\n",
      "        }\n",
      "    },\n",
      "    \"input_example\": {\n",
      "        \"messages\": [\n",
      "            {\n",
      "                \"role\": \"user\",\n",
      "                \"content\": \"What is RAG?\"\n",
      "            }\n",
      "        ]\n",
      "    },\n",
      "    \"class_path\": \"utils.agents.function_calling_agent.FunctionCallingAgentConfig\"\n",
      "}\n"
     ]
    }
   ],
   "source": [
    "# Import Pydantic models\n",
    "from cookbook.config.agents.function_calling_agent import (\n",
    "    FunctionCallingAgentConfig,\n",
    ")\n",
    "from cookbook.config.common.llm import LLMConfig, LLMParametersConfig\n",
    "\n",
    "\n",
    "########################\n",
    "# #### 🚫✏️ Load the Vector Index location from the data pipeline configuration\n",
    "########################\n",
    "\n",
    "# This loads the Vector Index Unity Catalog location from the data pipeline configuration.\n",
    "\n",
    "# Usage:\n",
    "# - If you used `01_data_pipeline` to create your Vector Index, run this cell.\n",
    "# - If your Vector Index was created elsewhere, skip this cell and set the UC location in the Retriever config.\n",
    "from cookbook.config.data_pipeline import (\n",
    "    DataPipelineConfig,\n",
    ")\n",
    "\n",
    "data_pipeline_config = DataPipelineConfig.from_yaml_file(\n",
    "    \"./configs/data_pipeline_config.yaml\"\n",
    ")\n",
    "\n",
    "\n",
    "\n",
    "from cookbook.config.tools.uc_tool import UCTool\n",
    "\n",
    "translate_sku_tool = UCTool(uc_function_name=\"ep.cookbook_local_test.translate_sku\")\n",
    "\n",
    "########################\n",
    "# #### ✅✏️ Retriever tool that connects to the Vector Search index\n",
    "########################\n",
    "\n",
    "from cookbook.config.tools.vector_search_tool import VectorSearchRetrieverTool, VectorSearchSchema, VectorSearchParameters\n",
    "# from utils.agents.tools_2 import load_obj_from_yaml\n",
    "retriever_tool = VectorSearchRetrieverTool(\n",
    "    name=\"search_customer_info\",\n",
    "    description=\"Use this tool to find customer info\",\n",
    "    vector_search_index=data_pipeline_config.output.vector_index,\n",
    "    vector_search_schema=VectorSearchSchema(\n",
    "        chunk_text=\"content_chunked\",\n",
    "        document_uri=\"doc_uri\",\n",
    "        additional_metadata_columns=[\"parser_status\"]\n",
    "    ),\n",
    "    # doc_similarity_threshold=0.0,\n",
    "    # vector_search_parameters=VectorSearchParameters(\n",
    "    #     num_results=5,\n",
    "    #     query_type=\"ann\"\n",
    "    # ),\n",
    "    # filterable_columns=[\"doc_uri\", \"chunk_id\"]\n",
    ")\n",
    "\n",
    "doc_tool = VectorSearchRetrieverTool(\n",
    "    name=\"search_product_docs\",\n",
    "    description=\"Use this tool to search for product documentation.\",\n",
    "    vector_search_index=\"ericpeter_catalog.agents.db_docs_app_chunked_docs_index\",\n",
    "    vector_search_schema=VectorSearchSchema(\n",
    "        chunk_text=\"content_chunked\",\n",
    "        document_uri=\"doc_uri\",\n",
    "        additional_metadata_columns=[\"section_headers\"]\n",
    "    ),\n",
    "    # doc_similarity_threshold=0.0,\n",
    "    # vector_search_parameters=VectorSearchParameters(\n",
    "    #     num_results=5,\n",
    "    #     query_type=\"ann\"\n",
    "    # ),\n",
    "    filterable_columns=[\"section_headers\"]\n",
    ")\n",
    "\n",
    "\n",
    "\n",
    "\n",
    "# retriever_config = VectorSearchRetrieverTool(\n",
    "#     vector_search_index=data_pipeline_config.output.vector_index,  # UC Vector Search index\n",
    "#     # Retriever schema, this is required by Agent Evaluation to:\n",
    "#     # 1. Enable the Review App to properly display retrieved chunks\n",
    "#     # 2. Enable metrics / LLM judges to understand which fields to use to measure the retriever\n",
    "#     # Each is a column name within the `vector_search_index`\n",
    "#     vector_search_schema=VectorSearchSchema(\n",
    "#         primary_key=\"chunk_id\",  # The column name in the retriever's response referred to the unique key\n",
    "#         chunk_text=\"content_chunked\",  # The column name in the retriever's response that contains the returned chunk\n",
    "#         document_uri=\"doc_uri\",  # The URI of the chunk - displayed as the document ID in the Review App\n",
    "#         additional_metadata_columns=[],  # Additional columns to return from the vector database and present to the LLM\n",
    "#     ),\n",
    "#     # Parameters defined by Vector Search docs: https://docs.databricks.com/en/generative-ai/create-query-vector-search.html#query-a-vector-search-endpoint\n",
    "#     vector_search_parameters=VectorSearchParameters(\n",
    "#         num_results=5,  # Number of search results that the retriever returns\n",
    "#         query_type=\"ann\",  # Type of search: ann or hybrid\n",
    "#     ),\n",
    "#     doc_similarity_threshold=0.0,  # 0 to 1, similarity threshold cut off for retrieved docs.  Increase if the retriever is returning irrelevant content.\n",
    "    \n",
    "# )\n",
    "\n",
    "########################\n",
    "#### ✅✏️ LLM configuration\n",
    "########################\n",
    "\n",
    "llm_config = LLMConfig(\n",
    "    llm_endpoint_name=\"ep-gpt4o-new\",  # Model serving endpoint\n",
    "    llm_system_prompt_template=(\n",
    "        \"\"\"You are a helpful assistant that answers questions by calling tools.  Provide responses ONLY based on the outputs from tools.  If you do not have a relevant tool for a question, respond with 'Sorry, I'm not trained to answer that question'.\"\"\"\n",
    "    ),  # System prompt template\n",
    "    llm_parameters=LLMParametersConfig(\n",
    "        temperature=0.01, max_tokens=1500\n",
    "    ),  # LLM parameters\n",
    ")\n",
    "\n",
    "agent_config = FunctionCallingAgentConfig(\n",
    "    llm_config=llm_config,\n",
    "    tools=[\n",
    "        retriever_tool, \n",
    "        translate_sku_tool,\n",
    "        doc_tool\n",
    "    ],\n",
    "    input_example={\n",
    "        \"messages\": [\n",
    "            {\n",
    "                \"role\": \"user\",\n",
    "                \"content\": \"What is RAG?\",\n",
    "            },\n",
    "        ]\n",
    "    },\n",
    ")\n",
    "\n",
    "\n",
    "########################\n",
    "##### 🚫✏️ Dump the configuration to a YAML\n",
    "########################\n",
    "\n",
    "\n",
    "# We dump the Pydantic model to a YAML file because:\n",
    "# 1. MLflow ModelConfig only accepts YAML files or dictionaries\n",
    "# 2. When importing the Agent's code, it needs to read this configuration\n",
    "def write_dict_to_yaml(data, file_path):\n",
    "    with open(file_path, \"w\") as file:\n",
    "        yaml.dump(data, file, default_flow_style=False)\n",
    "\n",
    "\n",
    "with open(\"./configs/agent_model_config.yaml\", \"w\") as handle:\n",
    "    agent_config_yml = agent_config.to_yaml()\n",
    "    handle.write(agent_config_yml)\n",
    "\n",
    "########################\n",
    "#### Print resulting config to the console\n",
    "########################\n",
    "print(json.dumps(agent_config.model_dump(), indent=4))"
   ]
  },
  {
   "cell_type": "code",
   "execution_count": 1,
   "metadata": {},
   "outputs": [
    {
     "data": {
      "text/plain": [
       "{'tools': [{'class_path': 'utils.agents.vector_search.VectorSearchRetrieverTool',\n",
       "   'description': 'Use this tool to find customer info',\n",
       "   'doc_similarity_threshold': 0.0,\n",
       "   'filterable_columns': [],\n",
       "   'name': 'search_customer_info',\n",
       "   'retriever_filter_parameter_prompt': 'optional filters to apply to the search. An array of objects, each specifying a field name and the filters to apply to that field.',\n",
       "   'retriever_query_parameter_prompt': 'query to look up in retriever',\n",
       "   'vector_search_index': 'ep.cookbook_local_test.my_pdfs_docs_chunked_index__v1',\n",
       "   'vector_search_parameters': {'num_results': 5, 'query_type': 'ann'},\n",
       "   'vector_search_schema': {'additional_metadata_columns': ['parser_status'],\n",
       "    'chunk_text': 'content_chunked',\n",
       "    'document_uri': 'doc_uri'}},\n",
       "  {'class_path': 'utils.agents.uc_tool.UCTool',\n",
       "   'error_prompt': 'Error in generated code.  Please think step-by-step about how to fix the error and try calling this tool again with corrected inputs that reflect this thinking.',\n",
       "   'uc_function_name': 'ep.cookbook_local_test.translate_sku'},\n",
       "  {'class_path': 'utils.agents.vector_search.VectorSearchRetrieverTool',\n",
       "   'description': 'Use this tool to search for product documentation.',\n",
       "   'doc_similarity_threshold': 0.0,\n",
       "   'filterable_columns': ['section_headers'],\n",
       "   'name': 'search_product_docs',\n",
       "   'retriever_filter_parameter_prompt': 'optional filters to apply to the search. An array of objects, each specifying a field name and the filters to apply to that field.',\n",
       "   'retriever_query_parameter_prompt': 'query to look up in retriever',\n",
       "   'vector_search_index': 'ericpeter_catalog.agents.db_docs_app_chunked_docs_index',\n",
       "   'vector_search_parameters': {'num_results': 5, 'query_type': 'ann'},\n",
       "   'vector_search_schema': {'additional_metadata_columns': ['section_headers'],\n",
       "    'chunk_text': 'content_chunked',\n",
       "    'document_uri': 'doc_uri'}}],\n",
       " 'llm_config': {'llm_endpoint_name': 'ep-gpt4o-new',\n",
       "  'llm_system_prompt_template': \"You are a helpful assistant that answers questions by calling tools.  Provide responses ONLY based on the outputs from tools.  If you do not have a relevant tool for a question, respond with 'Sorry, I'm not trained to answer that question'.\",\n",
       "  'llm_parameters': {'temperature': 0.01, 'max_tokens': 1500}},\n",
       " 'input_example': {'messages': [{'content': 'What is RAG?', 'role': 'user'}]},\n",
       " 'class_path': 'utils.agents.function_calling_agent.FunctionCallingAgentConfig'}"
      ]
     },
     "execution_count": 1,
     "metadata": {},
     "output_type": "execute_result"
    }
   ],
   "source": [
    "from cookbook.config.base import load_serializable_config_from_yaml\n",
    "\n",
    "with open(\"./configs/agent_model_config.yaml\", \"r\") as handle:\n",
    "    yaml_str = handle.read()\n",
    "\n",
    "\n",
    "\n",
    "test = load_serializable_config_from_yaml(yaml_str)\n",
    "test.model_dump()\n",
    "# type(test)\n",
    "# test"
   ]
  },
  {
   "cell_type": "markdown",
   "metadata": {},
   "source": [
    "load_obj_from_yaml --> the only way a class is loaded, will get the class path key\n",
    "\n",
    "* load & install the class from the class path key\n",
    "* call that class's _from_dict method with the remaining data to let it do anything custom e.g,. load the tools\n",
    "\n",
    "model_dump --> the only way the class is dumped, includes the class path key"
   ]
  },
  {
   "cell_type": "code",
   "execution_count": null,
   "metadata": {},
   "outputs": [],
   "source": []
  },
  {
   "cell_type": "code",
   "execution_count": 1,
   "metadata": {},
   "outputs": [
    {
     "ename": "AttributeError",
     "evalue": "from_dict",
     "output_type": "error",
     "traceback": [
      "\u001b[0;31m---------------------------------------------------------------------------\u001b[0m",
      "\u001b[0;31mAttributeError\u001b[0m                            Traceback (most recent call last)",
      "Cell \u001b[0;32mIn[1], line 3\u001b[0m\n\u001b[1;32m      1\u001b[0m \u001b[38;5;28;01mfrom\u001b[39;00m \u001b[38;5;21;01mutils\u001b[39;00m\u001b[38;5;21;01m.\u001b[39;00m\u001b[38;5;21;01magents\u001b[39;00m\u001b[38;5;21;01m.\u001b[39;00m\u001b[38;5;21;01mfunction_calling_agent\u001b[39;00m \u001b[38;5;28;01mimport\u001b[39;00m FunctionCallingAgentConfig\n\u001b[0;32m----> 3\u001b[0m \u001b[43mFunctionCallingAgentConfig\u001b[49m\u001b[38;5;241;43m.\u001b[39;49m\u001b[43mfrom_dict\u001b[49m(FunctionCallingAgentConfig, {})\n",
      "File \u001b[0;32m~/Library/Caches/pypoetry/virtualenvs/genai-cookbook-T2SdtsNM-py3.11/lib/python3.11/site-packages/pydantic/_internal/_model_construction.py:262\u001b[0m, in \u001b[0;36mModelMetaclass.__getattr__\u001b[0;34m(self, item)\u001b[0m\n\u001b[1;32m    260\u001b[0m \u001b[38;5;28;01mif\u001b[39;00m private_attributes \u001b[38;5;129;01mand\u001b[39;00m item \u001b[38;5;129;01min\u001b[39;00m private_attributes:\n\u001b[1;32m    261\u001b[0m     \u001b[38;5;28;01mreturn\u001b[39;00m private_attributes[item]\n\u001b[0;32m--> 262\u001b[0m \u001b[38;5;28;01mraise\u001b[39;00m \u001b[38;5;167;01mAttributeError\u001b[39;00m(item)\n",
      "\u001b[0;31mAttributeError\u001b[0m: from_dict"
     ]
    }
   ],
   "source": [
    "from cookbook.config.agents.function_calling_agent import FunctionCallingAgentConfig\n",
    "\n",
    "FunctionCallingAgentConfig.from_dict(FunctionCallingAgentConfig, {})"
   ]
  },
  {
   "cell_type": "code",
   "execution_count": 6,
   "metadata": {},
   "outputs": [
    {
     "ename": "AttributeError",
     "evalue": "from_dict",
     "output_type": "error",
     "traceback": [
      "\u001b[0;31m---------------------------------------------------------------------------\u001b[0m",
      "\u001b[0;31mAttributeError\u001b[0m                            Traceback (most recent call last)",
      "Cell \u001b[0;32mIn[6], line 13\u001b[0m\n\u001b[1;32m      9\u001b[0m test \u001b[38;5;241m=\u001b[39m \u001b[38;5;28mgetattr\u001b[39m(module, class_name)   \u001b[38;5;66;03m# gets datetime.datetime class\u001b[39;00m\n\u001b[1;32m     11\u001b[0m \u001b[38;5;66;03m# Now datetime_class is the actual datetime class and can be used to create instances\u001b[39;00m\n\u001b[1;32m     12\u001b[0m \u001b[38;5;66;03m# instance = datetime_class.now()\u001b[39;00m\n\u001b[0;32m---> 13\u001b[0m new \u001b[38;5;241m=\u001b[39m \u001b[43mtest\u001b[49m\u001b[38;5;241;43m.\u001b[39;49m\u001b[43mfrom_dict\u001b[49m()\n",
      "File \u001b[0;32m~/Library/Caches/pypoetry/virtualenvs/genai-cookbook-T2SdtsNM-py3.11/lib/python3.11/site-packages/pydantic/_internal/_model_construction.py:262\u001b[0m, in \u001b[0;36mModelMetaclass.__getattr__\u001b[0;34m(self, item)\u001b[0m\n\u001b[1;32m    260\u001b[0m \u001b[38;5;28;01mif\u001b[39;00m private_attributes \u001b[38;5;129;01mand\u001b[39;00m item \u001b[38;5;129;01min\u001b[39;00m private_attributes:\n\u001b[1;32m    261\u001b[0m     \u001b[38;5;28;01mreturn\u001b[39;00m private_attributes[item]\n\u001b[0;32m--> 262\u001b[0m \u001b[38;5;28;01mraise\u001b[39;00m \u001b[38;5;167;01mAttributeError\u001b[39;00m(item)\n",
      "\u001b[0;31mAttributeError\u001b[0m: from_dict"
     ]
    }
   ],
   "source": [
    "\n",
    "# import importlib\n",
    "\n",
    "# class_path = \"utils.agents.function_calling_agent.FunctionCallingAgentConfig\"\n",
    "\n",
    "# module_name, class_name = class_path.rsplit(\".\", 1)\n",
    "# # First we import the module\n",
    "# module = importlib.import_module(module_name)  # imports datetime module\n",
    "# # Then we get the class\n",
    "# test = getattr(module, class_name)   # gets datetime.datetime class\n",
    "\n",
    "# # Now datetime_class is the actual datetime class and can be used to create instances\n",
    "# # instance = datetime_class.now()\n",
    "# new = test.from_dict()"
   ]
  },
  {
   "cell_type": "code",
   "execution_count": 2,
   "metadata": {},
   "outputs": [
    {
     "name": "stdout",
     "output_type": "stream",
     "text": [
      "<class 'utils.agents.function_calling_agent.FunctionCallingAgentConfig'>\n",
      "<class 'pydantic._internal._model_construction.ModelMetaclass'>\n",
      "{'input_example': {'messages': [{'content': 'What is RAG?', 'role': 'user'}]}, 'llm_config': {'llm_endpoint_name': 'ep-gpt4o-new', 'llm_parameters': {'max_tokens': 1500, 'temperature': 0.01}, 'llm_system_prompt_template': \"You are a helpful assistant that answers questions by calling tools.  Provide responses ONLY based on the outputs from tools.  If you do not have a relevant tool for a question, respond with 'Sorry, I'm not trained to answer that question'.\"}, 'tools': [{'class_path': 'utils.agents.vector_search.VectorSearchRetrieverTool', 'description': 'Use this tool to find customer info', 'doc_similarity_threshold': 0.0, 'filterable_columns': [], 'name': 'search_customer_info', 'retriever_filter_parameter_prompt': 'optional filters to apply to the search. An array of objects, each specifying a field name and the filters to apply to that field.', 'retriever_query_parameter_prompt': 'query to look up in retriever', 'vector_search_index': 'ep.cookbook_local_test.my_pdfs_docs_chunked_index__v1', 'vector_search_parameters': {'num_results': 5, 'query_type': 'ann'}, 'vector_search_schema': {'additional_metadata_columns': ['parser_status'], 'chunk_text': 'content_chunked', 'document_uri': 'doc_uri'}}, {'class_path': 'utils.agents.uc_tool.UCTool', 'error_prompt': 'Error in generated code.  Please think step-by-step about how to fix the error and try calling this tool again with corrected inputs that reflect this thinking.', 'uc_function_name': 'ep.cookbook_local_test.translate_sku'}, {'class_path': 'utils.agents.vector_search.VectorSearchRetrieverTool', 'description': 'Use this tool to search for product documentation.', 'doc_similarity_threshold': 0.0, 'filterable_columns': ['section_headers'], 'name': 'search_product_docs', 'retriever_filter_parameter_prompt': 'optional filters to apply to the search. An array of objects, each specifying a field name and the filters to apply to that field.', 'retriever_query_parameter_prompt': 'query to look up in retriever', 'vector_search_index': 'ericpeter_catalog.agents.db_docs_app_chunked_docs_index', 'vector_search_parameters': {'num_results': 5, 'query_type': 'ann'}, 'vector_search_schema': {'additional_metadata_columns': ['section_headers'], 'chunk_text': 'content_chunked', 'document_uri': 'doc_uri'}}]}\n",
      "finc call\n",
      "{'input_example': {'messages': [{'content': 'What is RAG?', 'role': 'user'}]}, 'llm_config': {'llm_endpoint_name': 'ep-gpt4o-new', 'llm_parameters': {'max_tokens': 1500, 'temperature': 0.01}, 'llm_system_prompt_template': \"You are a helpful assistant that answers questions by calling tools.  Provide responses ONLY based on the outputs from tools.  If you do not have a relevant tool for a question, respond with 'Sorry, I'm not trained to answer that question'.\"}, 'tools': [{'class_path': 'utils.agents.vector_search.VectorSearchRetrieverTool', 'description': 'Use this tool to find customer info', 'doc_similarity_threshold': 0.0, 'filterable_columns': [], 'name': 'search_customer_info', 'retriever_filter_parameter_prompt': 'optional filters to apply to the search. An array of objects, each specifying a field name and the filters to apply to that field.', 'retriever_query_parameter_prompt': 'query to look up in retriever', 'vector_search_index': 'ep.cookbook_local_test.my_pdfs_docs_chunked_index__v1', 'vector_search_parameters': {'num_results': 5, 'query_type': 'ann'}, 'vector_search_schema': {'additional_metadata_columns': ['parser_status'], 'chunk_text': 'content_chunked', 'document_uri': 'doc_uri'}}, {'class_path': 'utils.agents.uc_tool.UCTool', 'error_prompt': 'Error in generated code.  Please think step-by-step about how to fix the error and try calling this tool again with corrected inputs that reflect this thinking.', 'uc_function_name': 'ep.cookbook_local_test.translate_sku'}, {'class_path': 'utils.agents.vector_search.VectorSearchRetrieverTool', 'description': 'Use this tool to search for product documentation.', 'doc_similarity_threshold': 0.0, 'filterable_columns': ['section_headers'], 'name': 'search_product_docs', 'retriever_filter_parameter_prompt': 'optional filters to apply to the search. An array of objects, each specifying a field name and the filters to apply to that field.', 'retriever_query_parameter_prompt': 'query to look up in retriever', 'vector_search_index': 'ericpeter_catalog.agents.db_docs_app_chunked_docs_index', 'vector_search_parameters': {'num_results': 5, 'query_type': 'ann'}, 'vector_search_schema': {'additional_metadata_columns': ['section_headers'], 'chunk_text': 'content_chunked', 'document_uri': 'doc_uri'}}]}\n",
      "finc call\n",
      "<class 'utils.agents.vector_search.VectorSearchRetrieverTool'>\n",
      "<class 'pydantic._internal._model_construction.ModelMetaclass'>\n",
      "{'description': 'Use this tool to find customer info', 'doc_similarity_threshold': 0.0, 'filterable_columns': [], 'name': 'search_customer_info', 'retriever_filter_parameter_prompt': 'optional filters to apply to the search. An array of objects, each specifying a field name and the filters to apply to that field.', 'retriever_query_parameter_prompt': 'query to look up in retriever', 'vector_search_index': 'ep.cookbook_local_test.my_pdfs_docs_chunked_index__v1', 'vector_search_parameters': {'num_results': 5, 'query_type': 'ann'}, 'vector_search_schema': {'additional_metadata_columns': ['parser_status'], 'chunk_text': 'content_chunked', 'document_uri': 'doc_uri'}}\n",
      "<class 'utils.agents.uc_tool.UCTool'>\n",
      "<class 'pydantic._internal._model_construction.ModelMetaclass'>\n",
      "{'error_prompt': 'Error in generated code.  Please think step-by-step about how to fix the error and try calling this tool again with corrected inputs that reflect this thinking.', 'uc_function_name': 'ep.cookbook_local_test.translate_sku'}\n",
      "<class 'utils.agents.vector_search.VectorSearchRetrieverTool'>\n",
      "<class 'pydantic._internal._model_construction.ModelMetaclass'>\n",
      "{'description': 'Use this tool to search for product documentation.', 'doc_similarity_threshold': 0.0, 'filterable_columns': ['section_headers'], 'name': 'search_product_docs', 'retriever_filter_parameter_prompt': 'optional filters to apply to the search. An array of objects, each specifying a field name and the filters to apply to that field.', 'retriever_query_parameter_prompt': 'query to look up in retriever', 'vector_search_index': 'ericpeter_catalog.agents.db_docs_app_chunked_docs_index', 'vector_search_parameters': {'num_results': 5, 'query_type': 'ann'}, 'vector_search_schema': {'additional_metadata_columns': ['section_headers'], 'chunk_text': 'content_chunked', 'document_uri': 'doc_uri'}}\n",
      "finc call----\n",
      "tools=[VectorSearchRetrieverTool(name='search_customer_info', description='Use this tool to find customer info', vector_search_index='ep.cookbook_local_test.my_pdfs_docs_chunked_index__v1', filterable_columns=[], vector_search_schema=VectorSearchSchema(chunk_text='content_chunked', document_uri='doc_uri', additional_metadata_columns=['parser_status']), doc_similarity_threshold=0.0, vector_search_parameters=VectorSearchParameters(num_results=5, query_type='ann'), retriever_query_parameter_prompt='query to look up in retriever', retriever_filter_parameter_prompt='optional filters to apply to the search. An array of objects, each specifying a field name and the filters to apply to that field.'), UCTool(name='ep__cookbook_local_test__translate_sku', description='Translates a pre-2024 SKU formatted as \"OLD-XXX-YYYY\" to the new SKU format \"NEW-YYYY-XXX\".', uc_function_name='ep.cookbook_local_test.translate_sku', error_prompt='Error in generated code.  Please think step-by-step about how to fix the error and try calling this tool again with corrected inputs that reflect this thinking.'), VectorSearchRetrieverTool(name='search_product_docs', description='Use this tool to search for product documentation.', vector_search_index='ericpeter_catalog.agents.db_docs_app_chunked_docs_index', filterable_columns=['section_headers'], vector_search_schema=VectorSearchSchema(chunk_text='content_chunked', document_uri='doc_uri', additional_metadata_columns=['section_headers']), doc_similarity_threshold=0.0, vector_search_parameters=VectorSearchParameters(num_results=5, query_type='ann'), retriever_query_parameter_prompt='query to look up in retriever', retriever_filter_parameter_prompt='optional filters to apply to the search. An array of objects, each specifying a field name and the filters to apply to that field.')] llm_config=LLMConfig(llm_endpoint_name='ep-gpt4o-new', llm_system_prompt_template=\"You are a helpful assistant that answers questions by calling tools.  Provide responses ONLY based on the outputs from tools.  If you do not have a relevant tool for a question, respond with 'Sorry, I'm not trained to answer that question'.\", llm_parameters=LLMParametersConfig(temperature=0.01, max_tokens=1500)) input_example={'messages': [{'content': 'What is RAG?', 'role': 'user'}]}\n",
      "finc call----\n",
      "---\n",
      "tools=[VectorSearchRetrieverTool(name='search_customer_info', description='Use this tool to find customer info', vector_search_index='ep.cookbook_local_test.my_pdfs_docs_chunked_index__v1', filterable_columns=[], vector_search_schema=VectorSearchSchema(chunk_text='content_chunked', document_uri='doc_uri', additional_metadata_columns=['parser_status']), doc_similarity_threshold=0.0, vector_search_parameters=VectorSearchParameters(num_results=5, query_type='ann'), retriever_query_parameter_prompt='query to look up in retriever', retriever_filter_parameter_prompt='optional filters to apply to the search. An array of objects, each specifying a field name and the filters to apply to that field.'), UCTool(name='ep__cookbook_local_test__translate_sku', description='Translates a pre-2024 SKU formatted as \"OLD-XXX-YYYY\" to the new SKU format \"NEW-YYYY-XXX\".', uc_function_name='ep.cookbook_local_test.translate_sku', error_prompt='Error in generated code.  Please think step-by-step about how to fix the error and try calling this tool again with corrected inputs that reflect this thinking.'), VectorSearchRetrieverTool(name='search_product_docs', description='Use this tool to search for product documentation.', vector_search_index='ericpeter_catalog.agents.db_docs_app_chunked_docs_index', filterable_columns=['section_headers'], vector_search_schema=VectorSearchSchema(chunk_text='content_chunked', document_uri='doc_uri', additional_metadata_columns=['section_headers']), doc_similarity_threshold=0.0, vector_search_parameters=VectorSearchParameters(num_results=5, query_type='ann'), retriever_query_parameter_prompt='query to look up in retriever', retriever_filter_parameter_prompt='optional filters to apply to the search. An array of objects, each specifying a field name and the filters to apply to that field.')] llm_config=LLMConfig(llm_endpoint_name='ep-gpt4o-new', llm_system_prompt_template=\"You are a helpful assistant that answers questions by calling tools.  Provide responses ONLY based on the outputs from tools.  If you do not have a relevant tool for a question, respond with 'Sorry, I'm not trained to answer that question'.\", llm_parameters=LLMParametersConfig(temperature=0.01, max_tokens=1500)) input_example={'messages': [{'content': 'What is RAG?', 'role': 'user'}]}\n",
      "---\n"
     ]
    }
   ],
   "source": [
    "from cookbook.config.base import load_serializable_config_from_yaml\n",
    "\n",
    "with open(\"./configs/agent_model_config.yaml\", \"r\") as handle:\n",
    "    yaml_str = handle.read()\n",
    "\n",
    "test = load_serializable_config_from_yaml(yaml_str)\n",
    "print(\"---\")\n",
    "print(test)\n",
    "print(\"---\")"
   ]
  },
  {
   "cell_type": "markdown",
   "metadata": {},
   "source": [
    "things to solve for \n",
    "- load agent from known class\n",
    "- load config from known class --> solved by SerializbleModel\n",
    "- OR \n",
    "- load from model serving endpoint\n",
    "\n",
    "\n",
    "have agent code in a notebook - not possible\n",
    "\n",
    "local dev loop without endpoint\n",
    "\n",
    "deploy multi agent\n",
    "- deploy each supervised agent\n",
    "- get the model serving endpoint for each\n",
    "- update the multi agent config with the model serving endpoints\n",
    "- deploy the multi agent\n"
   ]
  },
  {
   "cell_type": "code",
   "execution_count": 9,
   "metadata": {},
   "outputs": [
    {
     "data": {
      "text/plain": [
       "<module 'utils.agents.vector_search' from '/Users/eric.peter/Github/genai-cookbook/agent_app_sample_code/utils/agents/vector_search.py'>"
      ]
     },
     "execution_count": 9,
     "metadata": {},
     "output_type": "execute_result"
    }
   ],
   "source": [
    "retriever_tool.__class__.__module__\n",
    "\n",
    "import sys\n",
    "sys.modules[retriever_tool.__class__.__module__]"
   ]
  },
  {
   "cell_type": "code",
   "execution_count": 34,
   "metadata": {},
   "outputs": [
    {
     "data": {
      "text/plain": [
       "{'genie_space_id': '01ef92e3b5631f0da85834290964831d',\n",
       " 'input_example': {'messages': [{'role': 'user',\n",
       "    'content': 'What data can you query?'}]}}"
      ]
     },
     "execution_count": 34,
     "metadata": {},
     "output_type": "execute_result"
    }
   ],
   "source": [
    "genie_agent.model_dump()"
   ]
  },
  {
   "cell_type": "code",
   "execution_count": 2,
   "metadata": {},
   "outputs": [],
   "source": [
    "import logging\n",
    "logging.getLogger().setLevel(logging.INFO)\n"
   ]
  },
  {
   "cell_type": "code",
   "execution_count": 6,
   "metadata": {},
   "outputs": [
    {
     "data": {
      "text/plain": [
       "'dsfsd'"
      ]
     },
     "execution_count": 6,
     "metadata": {},
     "output_type": "execute_result"
    }
   ],
   "source": [
    "from cookbook.agents.common.load_config import TMP_CONFIG_FILE_NAME\n",
    "\n",
    "globals()[TMP_CONFIG_FILE_NAME] =\"dsfsd\"\n",
    "globals().get(\n",
    "                TMP_CONFIG_FILE_NAME, None\n",
    "            )"
   ]
  },
  {
   "cell_type": "code",
   "execution_count": 1,
   "metadata": {},
   "outputs": [
    {
     "name": "stderr",
     "output_type": "stream",
     "text": [
      "2024/11/05 21:12:09 WARNING mlflow.utils.requirements_utils: The following packages were not found in the public PyPI package index as of 2024-09-26; if these packages are not present in the public PyPI index, you must install them manually before loading your model: {'unitycatalog-openai'}\n",
      "/Users/eric.peter/Library/Caches/pypoetry/virtualenvs/genai-cookbook-T2SdtsNM-py3.11/lib/python3.11/site-packages/tqdm/auto.py:21: TqdmWarning: IProgress not found. Please update jupyter and ipywidgets. See https://ipywidgets.readthedocs.io/en/stable/user_install.html\n",
      "  from .autonotebook import tqdm as notebook_tqdm\n",
      "Uploading artifacts:  49%|████▉     | 20/41 [00:03<00:02,  7.25it/s]WARNING:urllib3.connectionpool:Connection pool is full, discarding connection: e2-dogfood-core.s3.us-west-2.amazonaws.com. Connection pool size: 10\n",
      "WARNING:urllib3.connectionpool:Connection pool is full, discarding connection: e2-dogfood-core.s3.us-west-2.amazonaws.com. Connection pool size: 10\n",
      "WARNING:urllib3.connectionpool:Connection pool is full, discarding connection: e2-dogfood-core.s3.us-west-2.amazonaws.com. Connection pool size: 10\n",
      "WARNING:urllib3.connectionpool:Connection pool is full, discarding connection: e2-dogfood-core.s3.us-west-2.amazonaws.com. Connection pool size: 10\n",
      "WARNING:urllib3.connectionpool:Connection pool is full, discarding connection: e2-dogfood-core.s3.us-west-2.amazonaws.com. Connection pool size: 10\n",
      "WARNING:urllib3.connectionpool:Connection pool is full, discarding connection: e2-dogfood-core.s3.us-west-2.amazonaws.com. Connection pool size: 10\n",
      "WARNING:urllib3.connectionpool:Connection pool is full, discarding connection: e2-dogfood-core.s3.us-west-2.amazonaws.com. Connection pool size: 10\n",
      "WARNING:urllib3.connectionpool:Connection pool is full, discarding connection: e2-dogfood-core.s3.us-west-2.amazonaws.com. Connection pool size: 10\n",
      "WARNING:urllib3.connectionpool:Connection pool is full, discarding connection: e2-dogfood-core.s3.us-west-2.amazonaws.com. Connection pool size: 10\n",
      "Uploading artifacts:  85%|████████▌ | 35/41 [00:03<00:00, 12.26it/s]WARNING:urllib3.connectionpool:Connection pool is full, discarding connection: e2-dogfood-core.s3.us-west-2.amazonaws.com. Connection pool size: 10\n",
      "Uploading artifacts: 100%|██████████| 41/41 [00:03<00:00, 11.98it/s]\n",
      "Downloading artifacts: 100%|██████████| 41/41 [00:01<00:00, 31.05it/s] \n",
      "2024/11/05 21:12:46 INFO mlflow.tracking._tracking_service.client: 🏃 View run nervous-mule-831 at: https://e2-dogfood.staging.cloud.databricks.com/ml/experiments/3916415516852775/runs/a9b76a3936144c36be3aab6f58f24221.\n",
      "2024/11/05 21:12:46 INFO mlflow.tracking._tracking_service.client: 🧪 View experiment at: https://e2-dogfood.staging.cloud.databricks.com/ml/experiments/3916415516852775.\n"
     ]
    }
   ],
   "source": [
    "from mlflow.models.rag_signatures import StringResponse, ChatCompletionRequest\n",
    "from mlflow.models.signature import ModelSignature\n",
    "# from agents.genie_agent.genie_agent import GenieAgentConfig\n",
    "from cookbook.config.base import _CLASS_PATH_KEY, SerializableConfig\n",
    "from  cookbook.config.agents.genie_agent import GenieAgentConfig\n",
    "from cookbook.config.base import serializable_config_to_yaml_file\n",
    "import mlflow\n",
    "import time\n",
    "import os\n",
    "from cookbook.agents.common.load_config import TMP_CONFIG_FILE_NAME\n",
    "\n",
    "def log_agent_to_mlflow(agent_config: SerializableConfig, agent_code_path: str):\n",
    "    # Generate unique config filename that the agent's code will read when being logged by MLflow\n",
    "    # tmp_config_file = f\"./configs/tmp/agent_config__{agent_config.__class__.__name__}__{int(time.time())}.yaml\"\n",
    "    # print(tmp_config_file)\n",
    "    # globals()[TMP_CONFIG_FILE_NAME] =tmp_config_file\n",
    "    # print(globals()[TMP_CONFIG_FILE_NAME_ENV_VAR_NAME])\n",
    "\n",
    "    # Dump the config to that YAML file\n",
    "    # obj_to_yaml_file(agent_config, tmp_config_file)\n",
    "    with mlflow.start_run():\n",
    "        test = mlflow.pyfunc.log_model(\n",
    "                artifact_path=\"agent\",\n",
    "                python_model=agent_code_path,\n",
    "                input_example=agent_config.input_example,\n",
    "                model_config=agent_config.model_dump(),\n",
    "                # resources=resource_dependencies,\n",
    "                signature=ModelSignature(\n",
    "                inputs=ChatCompletionRequest(),\n",
    "                outputs=StringResponse(), # TODO: Add in `messages` to signature\n",
    "            ),\n",
    "            code_paths=[os.path.join(os.getcwd(), \"utils\")],\n",
    "        )\n",
    "    return test\n",
    "\n",
    "\n",
    "\n",
    "\n",
    "genie_agent = GenieAgentConfig(genie_space_id=\"01ef92e3b5631f0da85834290964831d\", input_example={\n",
    "        \"messages\": [\n",
    "            {\n",
    "                \"role\": \"user\",\n",
    "                \"content\": \"What data can you query?\",\n",
    "            },\n",
    "        ]\n",
    "    },)\n",
    "\n",
    "# obj_to_yaml_file(genie_agent, \"./configs/genie_config.yaml\")\n",
    "\n",
    "test = log_agent_to_mlflow(genie_agent, \"agents/genie_agent/genie_agent.py\")\n"
   ]
  },
  {
   "cell_type": "code",
   "execution_count": 3,
   "metadata": {},
   "outputs": [
    {
     "name": "stderr",
     "output_type": "stream",
     "text": [
      "/Users/eric.peter/Library/Caches/pypoetry/virtualenvs/genai-cookbook-T2SdtsNM-py3.11/lib/python3.11/site-packages/tqdm/auto.py:21: TqdmWarning: IProgress not found. Please update jupyter and ipywidgets. See https://ipywidgets.readthedocs.io/en/stable/user_install.html\n",
      "  from .autonotebook import tqdm as notebook_tqdm\n",
      "Downloading artifacts: 100%|██████████| 41/41 [00:02<00:00, 18.79it/s]  \n"
     ]
    }
   ],
   "source": [
    "import mlflow\n",
    "model = \"runs:/a9b76a3936144c36be3aab6f58f24221/agent\"\n",
    "d = mlflow.pyfunc.load_model(model)"
   ]
  },
  {
   "cell_type": "code",
   "execution_count": 53,
   "metadata": {},
   "outputs": [
    {
     "data": {
      "text/plain": [
       "GenieAgentConfig(genie_space_id='01ef92e3b5631f0da85834290964831d', input_example={'messages': [{'content': 'What data can you query?', 'role': 'user'}]})"
      ]
     },
     "execution_count": 53,
     "metadata": {},
     "output_type": "execute_result"
    }
   ],
   "source": [
    "data = {'genie_space_id': '01ef92e3b5631f0da85834290964831d', 'input_example': {'messages': [{'content': 'What data can you query?', 'role': 'user'}]}}\n",
    "\n",
    "GenieAgentConfig(**data)"
   ]
  },
  {
   "cell_type": "code",
   "execution_count": 6,
   "metadata": {},
   "outputs": [],
   "source": [
    "from databricks.sdk import WorkspaceClient\n",
    "\n",
    "ws = WorkspaceClient()\n",
    "# ws.get_model_version_download_uri(model, \"production\")\n"
   ]
  },
  {
   "cell_type": "code",
   "execution_count": 7,
   "metadata": {},
   "outputs": [
    {
     "data": {
      "text/plain": [
       "{'content': 'I can query data from the following tables within the `ep`.`agent_demo` schema:\\n\\n1. `churn_app_events`: Records user interactions with a mobile app, including user ID, event ID, platform, date, action, session ID, and URL.\\n2. `churn_orders`: Contains information about orders made by users, including order amount, order ID, user ID, item count, and creation date.\\n3. `churn_users`: Contains information about all users, including demographics, user activity, and churn status.\\n4. `churn_prediction`: Contains information about user churn prediction, including demographic and behavioral data, and various user attributes.\\n\\nThese tables can be used to analyze user behavior, identify trends, understand user demographics, and predict user churn.',\n",
       " 'messages': [{'role': 'user', 'content': 'What data can you query?'},\n",
       "  {'role': 'assistant',\n",
       "   'tool_calls': [{'id': 'call_c57288cd80d44ccc8a20fc7e168e814e',\n",
       "     'function': {'arguments': '{\"query\": \"What data can you query?\"}',\n",
       "      'name': 'genie'},\n",
       "     'type': 'function'}]},\n",
       "  {'role': 'tool',\n",
       "   'tool_call_id': 'call_c57288cd80d44ccc8a20fc7e168e814e',\n",
       "   'content': '{\"sql_query\": null, \"response\": \"I can query data from the following tables within the `ep`.`agent_demo` schema:\\\\n\\\\n1. `churn_app_events`: Records user interactions with a mobile app, including user ID, event ID, platform, date, action, session ID, and URL.\\\\n2. `churn_orders`: Contains information about orders made by users, including order amount, order ID, user ID, item count, and creation date.\\\\n3. `churn_users`: Contains information about all users, including demographics, user activity, and churn status.\\\\n4. `churn_prediction`: Contains information about user churn prediction, including demographic and behavioral data, and various user attributes.\\\\n\\\\nThese tables can be used to analyze user behavior, identify trends, understand user demographics, and predict user churn.\", \"data_table\": null}'},\n",
       "  {'role': 'assistant',\n",
       "   'content': 'I can query data from the following tables within the `ep`.`agent_demo` schema:\\n\\n1. `churn_app_events`: Records user interactions with a mobile app, including user ID, event ID, platform, date, action, session ID, and URL.\\n2. `churn_orders`: Contains information about orders made by users, including order amount, order ID, user ID, item count, and creation date.\\n3. `churn_users`: Contains information about all users, including demographics, user activity, and churn status.\\n4. `churn_prediction`: Contains information about user churn prediction, including demographic and behavioral data, and various user attributes.\\n\\nThese tables can be used to analyze user behavior, identify trends, understand user demographics, and predict user churn.'}]}"
      ]
     },
     "execution_count": 7,
     "metadata": {},
     "output_type": "execute_result"
    }
   ],
   "source": [
    "d.predict({\n",
    "        \"messages\": [\n",
    "            {\n",
    "                \"role\": \"user\",\n",
    "                \"content\": \"What data can you query?\",\n",
    "            },\n",
    "        ]\n",
    "    })"
   ]
  },
  {
   "cell_type": "code",
   "execution_count": 4,
   "metadata": {},
   "outputs": [
    {
     "data": {
      "text/plain": [
       "{'type': 'function',\n",
       " 'function': {'name': 'search_product_docs',\n",
       "  'description': 'Use this tool to search for product documentation.',\n",
       "  'parameters': {'properties': {'query': {'description': 'query to look up in retriever',\n",
       "     'type': 'string'},\n",
       "    'type': 'object',\n",
       "    'required': ['query'],\n",
       "    'additionalProperties': False}}}}"
      ]
     },
     "execution_count": 4,
     "metadata": {},
     "output_type": "execute_result"
    }
   ],
   "source": [
    "retriever_tool.get_json_schema()"
   ]
  },
  {
   "cell_type": "code",
   "execution_count": 5,
   "metadata": {},
   "outputs": [],
   "source": [
    "%load_ext autoreload\n",
    "%autoreload 2\n"
   ]
  },
  {
   "cell_type": "code",
   "execution_count": 11,
   "metadata": {},
   "outputs": [
    {
     "name": "stdout",
     "output_type": "stream",
     "text": [
      "\n",
      "    Deploy new version of the agents.\n",
      "\n",
      "    :param model_name: Name of UC registered model\n",
      "    :param model_version: Model version #\n",
      "    :param scale_to_zero: Flag to scale the endpoint to zero when not in use. With scale to zero,\n",
      "    the compute resources may take time to come up so the app may not be ready instantly. (default: False)\n",
      "    :param environment_vars: Dictionary of environment variables used to provide configuration for the endpoint (default: {})\n",
      "    :param instance_profile_arn: Instance profile ARN to use for the endpoint (default: None)\n",
      "    :param tags: Dictionary of tags to attach to the deployment (default: None)\n",
      "\n",
      "    :return: Chain deployment metadata.\n",
      "    \n"
     ]
    }
   ],
   "source": [
    "from databricks import agents\n",
    "\n",
    "print(agents.deploy.__doc__)"
   ]
  },
  {
   "cell_type": "code",
   "execution_count": 14,
   "metadata": {},
   "outputs": [
    {
     "data": {
      "text/plain": [
       "agents.genie_agent.genie_agent.GenieAgent"
      ]
     },
     "execution_count": 14,
     "metadata": {},
     "output_type": "execute_result"
    }
   ],
   "source": [
    "from agents.genie_agent.genie_agent import GenieAgent\n",
    "\n",
    "GenieAgent"
   ]
  },
  {
   "cell_type": "markdown",
   "metadata": {},
   "source": [
    "Design for multi-agent\n",
    "\n",
    "requirements\n",
    "* can test locally with just the agent's pyfunc classes\n",
    "* when you change any config, it all just reloads\n",
    "\n",
    "when you deploy:\n",
    "* you  deploy each supervised agent separately to model serving\n",
    "* then mutli agent picks these up \n",
    "* then mutli agent deploys\n",
    "\n",
    "* each child agent has [name, description, config, code]\n",
    " - when deployed, it reads it from the UC\n",
    " - locally, from the config"
   ]
  },
  {
   "cell_type": "code",
   "execution_count": 4,
   "metadata": {},
   "outputs": [],
   "source": [
    "from cookbook.config.agents.multi_agent import MultiAgentSupervisorConfig, SupervisedAgentConfig\n",
    "from cookbook.config.common.llm import LLMConfig, LLMParametersConfig\n",
    "from cookbook.config.base import serializable_config_to_yaml_file\n",
    "\n",
    "# Create the supervisor config\n",
    "supervisor_config = MultiAgentSupervisorConfig(\n",
    "    llm_endpoint_name=\"ep-gpt4o-new\",\n",
    "    llm_parameters=LLMParametersConfig(\n",
    "            temperature=0.01,\n",
    "            max_tokens=1500\n",
    "        ),\n",
    "    # input_example={\n",
    "    #     \"messages\": [\n",
    "    #         {\n",
    "    #             \"role\": \"user\", \n",
    "    #             \"content\": \"What can you help me with?\"\n",
    "    #         }\n",
    "    #     ]\n",
    "    # },\n",
    "    playground_debug_mode=True,\n",
    "    # agent_loading_mode=\"local\",\n",
    "    max_workers_called=5,\n",
    "    agents=[\n",
    "        SupervisedAgentConfig(\n",
    "            description=\"Has access to the product documentation, transcripts from our customer service call center and information about customer's recent orders.\",\n",
    "            name=\"CustomerServiceTranscripts\",\n",
    "            endpoint_name=\"agents_ep-agent_demo-customer_bot_function_calling_agent\"\n",
    "        ),\n",
    "        SupervisedAgentConfig(\n",
    "            description=\"Has access to structured data about our customers, their orders, their activity on our application, and their likelihood to churn.\",\n",
    "            name=\"CustomerData\",\n",
    "            endpoint_name=\"agents_ep-agent_demo-customer_bot_genie_agent\"\n",
    "        )\n",
    "    ]\n",
    ")\n",
    "supervisor_config.model_dump()\n",
    "\n",
    "serializable_config_to_yaml_file(supervisor_config, \"./configs/multi_agent_supervisor_config.yaml\")"
   ]
  },
  {
   "cell_type": "code",
   "execution_count": 1,
   "metadata": {},
   "outputs": [
    {
     "data": {
      "text/plain": [
       "{'llm_endpoint_name': 'ep-gpt4o-new',\n",
       " 'llm_parameters': {'temperature': 0.01, 'max_tokens': 1500},\n",
       " 'input_example': {'messages': [{'content': 'What can you help me with?',\n",
       "    'role': 'user'}]},\n",
       " 'playground_debug_mode': True,\n",
       " 'agent_loading_mode': 'local',\n",
       " 'max_workers_called': 5,\n",
       " 'supervisor_system_prompt': '## Role\\nYou are a supervisor responsible for managing a conversation between a user and the following workers.  You select the next worker to respond or end the conversation to return the last worker\\'s response to the user.  Use the {ROUTING_FUNCTION_NAME} function to share your step-by-step reasoning and decision.\\n\\n## Workers\\n<workers>{workers_names_and_descriptions}</workers>\\n\\n## Objective\\nYour goal is to facilitate the conversation and ensure the user receives a helpful response.\\n\\n## Instructions\\n1. **Review the Conversation History**: Think step by step by to understand the user\\'s request and the conversation history which includes previous worker\\'s responses.  Output to the `{CONVERSATION_HISTORY_THINKING_PARAM}` variable.\\n2. **Assess Worker Descriptions**: Think step by step to consider the description of each worker to understand their capabilities in the context of the conversation history.  Output to the `{WORKER_CAPABILITIES_THINKING_PARAM}` variable.\\n3. **Select the next worker OR finish the conversation**: Based on the converastion history, the worker\\'s descriptions and your thinking, decide which worker should respond next OR if the conversation should finish with the last worker\\'s response going to the user.  If the conversation becomes unproductive or stuck, also respond with \"{FINISH_ROUTE_NAME}.\"  Output either the <worker_name> or \"{FINISH_ROUTE_NAME}\" to the `{NEXT_WORKER_OR_FINISH_PARAM}` variable.\\n\\n## Additional Notes\\n- A conversation is considered \"stuck\" if there is no progress or if workers are unable to proceed with their tasks.',\n",
       " 'supervisor_user_prompt': \"Given the converastion history, the worker's descriptions and your thinking, which worker should act next OR should we FINISH? Respond with one of [{worker_names_with_finish}] to the `{NEXT_WORKER_OR_FINISH_PARAM}` variable in the {ROUTING_FUNCTION_NAME} function.\",\n",
       " 'agents': [{'class_path': 'utils.agents.multi_agent.SupervisedAgentConfig',\n",
       "   'description': \"Has access to the product documentation, transcripts from our customer service call center and information about customer's recent orders.\",\n",
       "   'endpoint_name': 'agents_ep-agent_demo-customer_bot_function_calling_agent',\n",
       "   'name': 'CustomerServiceTranscripts'},\n",
       "  {'class_path': 'utils.agents.multi_agent.SupervisedAgentConfig',\n",
       "   'description': 'Has access to structured data about our customers, their orders, their activity on our application, and their likelihood to churn.',\n",
       "   'endpoint_name': 'agents_ep-agent_demo-customer_bot_genie_agent',\n",
       "   'name': 'CustomerData'}],\n",
       " 'class_path': 'utils.agents.multi_agent.MultiAgentSupervisorConfig'}"
      ]
     },
     "execution_count": 1,
     "metadata": {},
     "output_type": "execute_result"
    }
   ],
   "source": [
    "from cookbook.config.base import load_serializable_config_from_yaml\n",
    "\n",
    "with open(\"./configs/multi_agent_supervisor_config.yaml\", \"r\") as handle:\n",
    "    yaml_str = handle.read()\n",
    "\n",
    "\n",
    "\n",
    "test = load_serializable_config_from_yaml(yaml_str)\n",
    "test.model_dump()\n",
    "# type(test)\n",
    "# test"
   ]
  },
  {
   "cell_type": "code",
   "execution_count": 1,
   "metadata": {},
   "outputs": [],
   "source": [
    "from cookbook.config.agents.genie_agent import GenieAgentConfig\n",
    "# from agents.genie_agent.genie_agent import GenieAgent\n",
    "\n",
    "genie_agent = GenieAgentConfig(genie_space_id=\"01ef92e3b5631f0da85834290964831d\", input_example={\n",
    "        \"messages\": [\n",
    "            {\n",
    "                \"role\": \"user\",\n",
    "                \"content\": \"What data can you query?\",\n",
    "            },\n",
    "        ]\n",
    "    },)\n",
    "\n",
    "genie_agent\n",
    "with open(\"./configs/genie_config.yaml\", \"w\") as handle:\n",
    "    genie_config_yml = genie_agent.to_yaml()\n",
    "    handle.write(genie_config_yml)\n",
    "\n"
   ]
  },
  {
   "cell_type": "code",
   "execution_count": 1,
   "metadata": {},
   "outputs": [
    {
     "data": {
      "text/plain": [
       "{'genie_space_id': '01ef92e3b5631f0da85834290964831d',\n",
       " 'input_example': {'messages': [{'content': 'What data can you query?',\n",
       "    'role': 'user'}]},\n",
       " 'encountered_error_user_message': 'I encountered an error trying to answer your question, please try again.',\n",
       " 'class_path': 'utils.agents.genie_agent.GenieAgentConfig'}"
      ]
     },
     "execution_count": 1,
     "metadata": {},
     "output_type": "execute_result"
    }
   ],
   "source": [
    "from cookbook.config.base import load_serializable_config_from_yaml\n",
    "\n",
    "with open(\"./configs/genie_config.yaml\", \"r\") as handle:\n",
    "    yaml_str = handle.read()\n",
    "\n",
    "\n",
    "\n",
    "test = load_serializable_config_from_yaml(yaml_str)\n",
    "test.model_dump()\n",
    "# type(test)\n",
    "# test"
   ]
  },
  {
   "cell_type": "code",
   "execution_count": 2,
   "metadata": {},
   "outputs": [],
   "source": [
    "from cookbook.config.agents.multi_agent import MultiAgentSupervisorConfig\n",
    "from cookbook.config.common.llm import LLMConfig\n",
    "\n",
    "multi_agent_config = MultiAgentSupervisorConfig(\n",
    "    llm_config=LLMConfig(\n",
    "        llm_endpoint_name=\"ep-gpt4o-new\",\n",
    "        llm_parameters={\n",
    "            \"max_tokens\": 1500,\n",
    "            \"temperature\": 0.01\n",
    "        },\n",
    "        llm_system_prompt_template=\"You are a helpful assistant that answers questions by calling tools. Provide responses ONLY based on the outputs from tools. If you do not have a relevant tool for a question, respond with 'Sorry, I'm not trained to answer that question'.\"\n",
    "    ),\n",
    "    input_example={\n",
    "        \"messages\": [\n",
    "            {\n",
    "                \"role\": \"user\", \n",
    "                \"content\": \"What data can you query?\"\n",
    "            }\n",
    "        ]\n",
    "    },\n",
    "    playground_debug_mode=False,\n",
    "    agent_loading_mode=\"local\",\n",
    "    agents=[genie_agent]\n",
    ")\n",
    "\n",
    "with open(\"./configs/multi_agent_config.yaml\", \"w\") as handle:\n",
    "    genie_config_yml = multi_agent_config.to_yaml()\n",
    "    handle.write(genie_config_yml)\n"
   ]
  },
  {
   "cell_type": "code",
   "execution_count": 1,
   "metadata": {},
   "outputs": [
    {
     "ename": "AttributeError",
     "evalue": "module 'utils.agents.multi_agent' has no attribute 'MultiAgentConfig'",
     "output_type": "error",
     "traceback": [
      "\u001b[0;31m---------------------------------------------------------------------------\u001b[0m",
      "\u001b[0;31mAttributeError\u001b[0m                            Traceback (most recent call last)",
      "Cell \u001b[0;32mIn[1], line 8\u001b[0m\n\u001b[1;32m      3\u001b[0m \u001b[38;5;28;01mwith\u001b[39;00m \u001b[38;5;28mopen\u001b[39m(\u001b[38;5;124m\"\u001b[39m\u001b[38;5;124m./configs/multi_agent_config.yaml\u001b[39m\u001b[38;5;124m\"\u001b[39m, \u001b[38;5;124m\"\u001b[39m\u001b[38;5;124mr\u001b[39m\u001b[38;5;124m\"\u001b[39m) \u001b[38;5;28;01mas\u001b[39;00m handle:\n\u001b[1;32m      4\u001b[0m     yaml_str \u001b[38;5;241m=\u001b[39m handle\u001b[38;5;241m.\u001b[39mread()\n\u001b[0;32m----> 8\u001b[0m test \u001b[38;5;241m=\u001b[39m \u001b[43mload_obj_from_yaml\u001b[49m\u001b[43m(\u001b[49m\u001b[43myaml_str\u001b[49m\u001b[43m)\u001b[49m\n\u001b[1;32m      9\u001b[0m test\u001b[38;5;241m.\u001b[39mmodel_dump()\n\u001b[1;32m     10\u001b[0m \u001b[38;5;66;03m# type(test)\u001b[39;00m\n\u001b[1;32m     11\u001b[0m \u001b[38;5;66;03m# test\u001b[39;00m\n",
      "File \u001b[0;32m~/Github/genai-cookbook/agent_app_sample_code/utils/agents/tools.py:91\u001b[0m, in \u001b[0;36mload_obj_from_yaml\u001b[0;34m(yaml_str)\u001b[0m\n\u001b[1;32m     89\u001b[0m \u001b[38;5;28;01mdef\u001b[39;00m \u001b[38;5;21mload_obj_from_yaml\u001b[39m(yaml_str: \u001b[38;5;28mstr\u001b[39m) \u001b[38;5;241m-\u001b[39m\u001b[38;5;241m>\u001b[39m SerializableModel:\n\u001b[1;32m     90\u001b[0m     data \u001b[38;5;241m=\u001b[39m yaml\u001b[38;5;241m.\u001b[39msafe_load(yaml_str)\n\u001b[0;32m---> 91\u001b[0m     class_obj, remaining_data \u001b[38;5;241m=\u001b[39m \u001b[43m_load_class_from_dict\u001b[49m\u001b[43m(\u001b[49m\u001b[43mdata\u001b[49m\u001b[43m)\u001b[49m\n\u001b[1;32m     92\u001b[0m     \u001b[38;5;28;01mreturn\u001b[39;00m class_obj\u001b[38;5;241m.\u001b[39m_load_class_from_dict(class_obj, remaining_data)\n",
      "File \u001b[0;32m~/Github/genai-cookbook/agent_app_sample_code/utils/agents/tools.py:86\u001b[0m, in \u001b[0;36m_load_class_from_dict\u001b[0;34m(data)\u001b[0m\n\u001b[1;32m     84\u001b[0m module_name, class_name \u001b[38;5;241m=\u001b[39m class_path\u001b[38;5;241m.\u001b[39mrsplit(\u001b[38;5;124m\"\u001b[39m\u001b[38;5;124m.\u001b[39m\u001b[38;5;124m\"\u001b[39m, \u001b[38;5;241m1\u001b[39m)\n\u001b[1;32m     85\u001b[0m module \u001b[38;5;241m=\u001b[39m importlib\u001b[38;5;241m.\u001b[39mimport_module(module_name)\n\u001b[0;32m---> 86\u001b[0m \u001b[38;5;28;01mreturn\u001b[39;00m \u001b[38;5;28;43mgetattr\u001b[39;49m\u001b[43m(\u001b[49m\u001b[43mmodule\u001b[49m\u001b[43m,\u001b[49m\u001b[43m \u001b[49m\u001b[43mclass_name\u001b[49m\u001b[43m)\u001b[49m, data\n",
      "\u001b[0;31mAttributeError\u001b[0m: module 'utils.agents.multi_agent' has no attribute 'MultiAgentConfig'"
     ]
    }
   ],
   "source": [
    "from cookbook.config.base import load_serializable_config_from_yaml\n",
    "\n",
    "with open(\"./configs/multi_agent_config.yaml\", \"r\") as handle:\n",
    "    yaml_str = handle.read()\n",
    "\n",
    "\n",
    "\n",
    "test = load_serializable_config_from_yaml(yaml_str)\n",
    "test.model_dump()\n",
    "# type(test)\n",
    "# test"
   ]
  },
  {
   "cell_type": "code",
   "execution_count": 11,
   "metadata": {},
   "outputs": [],
   "source": [
    "from cookbook.config.base import load_serializable_config_from_yaml\n",
    "genie_agent.model_dump()\n",
    "\n",
    "test = load_serializable_config_from_yaml(genie_agent.to_yaml())"
   ]
  },
  {
   "cell_type": "code",
   "execution_count": 12,
   "metadata": {},
   "outputs": [
    {
     "data": {
      "text/plain": [
       "GenieAgentConfig(genie_space_id='01ef92e3b5631f0da85834290964831d', input_example={'messages': [{'content': 'What data can you query?', 'role': 'user'}]}, encountered_error_user_message='I encountered an error trying to answer your question, please try again.')"
      ]
     },
     "execution_count": 12,
     "metadata": {},
     "output_type": "execute_result"
    }
   ],
   "source": [
    "test"
   ]
  },
  {
   "cell_type": "markdown",
   "metadata": {
    "application/vnd.databricks.v1+cell": {
     "cellMetadata": {},
     "inputWidgets": {},
     "nuid": "f17e4229-67be-4b4e-9e6d-381c096670f0",
     "showTitle": false,
     "tableResultSettingsMap": {},
     "title": ""
    }
   },
   "source": [
    "#### ✅✏️ Adjust the Agent's code\n",
    "\n",
    "Here, we import the Agent's code so we can run the Agent locally within the notebook.  To modify the code, open this Notebook in a separate window, make your changes, and re-run this cell.\n",
    "\n",
    "**Important: Typically, when building the first version of your agent, you will not need to modify the code.**"
   ]
  },
  {
   "cell_type": "code",
   "execution_count": 0,
   "metadata": {
    "application/vnd.databricks.v1+cell": {
     "cellMetadata": {},
     "inputWidgets": {},
     "nuid": "b80c0f8c-18f7-4bab-904a-4cf4e5779d92",
     "showTitle": false,
     "tableResultSettingsMap": {},
     "title": ""
    }
   },
   "outputs": [],
   "source": [
    "%run ./agents/function_calling_agent/function_calling_agent_mlflow_sdk"
   ]
  },
  {
   "cell_type": "markdown",
   "metadata": {
    "application/vnd.databricks.v1+cell": {
     "cellMetadata": {},
     "inputWidgets": {},
     "nuid": "06791f7c-7be3-4903-8384-84b109502a2e",
     "showTitle": false,
     "tableResultSettingsMap": {},
     "title": ""
    }
   },
   "source": [
    "## 2️⃣ Evaluate the Agent's quality\n",
    "\n",
    "Once you have modified the code & config to create a version of your Agent, there are 3 ways you can test it's quality.\n",
    "\n",
    "Each mode does the same high level steps:\n",
    "1. Log the Agent's code and config to an MLflow Run --> this captures your code/config should you need to return to this version later after modifying the notebook\n",
    "2. Runs the Agent for 1+ queries\n",
    "3. Allows you to inspect the Agent's outputs for those queries\n",
    "\n",
    "To get started, pick a mode and scroll to the relevant cells below.  If this is your first time, start with 🅰.\n",
    "\n",
    "- 🅰 Vibe check the Agent for a single query\n",
    "  - Use this mode in your inner dev loop to iterate and debug on a single query while making a change.\n",
    "- 🅱 Evaluate the Agent for 1+ queries\n",
    "  - Use this mode before you have an evaluation set defined, but want to test a version of the Agent against multiple queries to ensure your change doesn't cause a regression for other queries.\n",
    "- 🅲 Evaluate the Agent using your evaluation set\n",
    "  - Use this mode once you have an evaluation set defined.  It is the same as 🅱, but uses your evaluation set that is stored in a Delta Table.\n",
    "\n"
   ]
  },
  {
   "cell_type": "markdown",
   "metadata": {
    "application/vnd.databricks.v1+cell": {
     "cellMetadata": {},
     "inputWidgets": {},
     "nuid": "5ec1addb-6913-48ff-83d1-78d83ade499d",
     "showTitle": false,
     "tableResultSettingsMap": {},
     "title": ""
    }
   },
   "source": [
    "###### 🚫✏️ Helper function to log the Agent to MLflow\n",
    "\n",
    "This helper function wraps the code required to log a version of the Agent's code & config to MLflow.  It is used by all 3 modes.\n"
   ]
  },
  {
   "cell_type": "markdown",
   "metadata": {
    "application/vnd.databricks.v1+cell": {
     "cellMetadata": {},
     "inputWidgets": {},
     "nuid": "5bc3060a-2e7a-41e7-b965-e049916eac5b",
     "showTitle": false,
     "tableResultSettingsMap": {},
     "title": ""
    }
   },
   "source": [
    "#### ✅✏️ 🅰 Vibe check the Agent for a single query\n",
    "\n",
    "Running this cell will produce an MLflow Trace that you can use to see the Agent's outputs and understand the steps it took to produce that output."
   ]
  },
  {
   "cell_type": "code",
   "execution_count": 0,
   "metadata": {
    "application/vnd.databricks.v1+cell": {
     "cellMetadata": {},
     "inputWidgets": {},
     "nuid": "69ef777f-6aa5-4755-996b-b68b9e069d5a",
     "showTitle": false,
     "tableResultSettingsMap": {},
     "title": ""
    }
   },
   "outputs": [],
   "source": [
    "# Query\n",
    "vibe_check_query = {\n",
    "    \"messages\": [\n",
    "        {\"role\": \"user\", \"content\": f\"what is lakehouse monitoring?\"},\n",
    "    ]\n",
    "}\n",
    "\n",
    "\n",
    "def log_agent_to_mlflow():\n",
    "    resource_dependencies = get_agent_dependencies(agent_config=agent_config)\n",
    "    return log_pyfunc_agent(\n",
    "        resource_dependencies=resource_dependencies,\n",
    "        agent_definition_file_path=\"agents/function_calling_agent/function_calling_agent_mlflow_sdk\",\n",
    "        input_example=agent_config.input_example,\n",
    "    )\n",
    "\n",
    "\n",
    "# `run_name` provides a human-readable name for this vibe check in the MLflow experiment\n",
    "with mlflow.start_run(\n",
    "    run_name=\"vibe-check__\" + datetime.now().strftime(\"%Y-%m-%d_%I:%M:%S_%p\")\n",
    "):\n",
    "    # Log the current Agent code/config to MLflow\n",
    "    logged_agent_info = log_agent_to_mlflow()\n",
    "\n",
    "    # Execute the Agent\n",
    "    agent = FunctionCallingAgent(agent_config=agent_config)\n",
    "\n",
    "    # Run the agent for this query\n",
    "    response = agent.predict(model_input=vibe_check_query)\n",
    "\n",
    "    # Print Agent's output\n",
    "    display_markdown(f\"### Agent's output:\\n{response['content']}\", raw=True)"
   ]
  },
  {
   "cell_type": "markdown",
   "metadata": {
    "application/vnd.databricks.v1+cell": {
     "cellMetadata": {},
     "inputWidgets": {},
     "nuid": "47f2ed0b-30b1-498e-b03b-826acd8c5f43",
     "showTitle": false,
     "tableResultSettingsMap": {},
     "title": ""
    }
   },
   "source": [
    "#### ✅✏️ 🅱 Evaluate the Agent for 1+ queries\n",
    "\n",
    "Running this cell will call [Agent Evaluation](https://docs.databricks.com/en/generative-ai/agent-evaluation/index.html) which will run your Agent to generate outputs for 1+ queries and then evaluate the Agent's quality and assess the root cause of any quality issues. The resulting outputs, MLflow Trace, and evaluation results are available in the MLflow Run."
   ]
  },
  {
   "cell_type": "code",
   "execution_count": 0,
   "metadata": {
    "application/vnd.databricks.v1+cell": {
     "cellMetadata": {},
     "inputWidgets": {},
     "nuid": "c1d976f4-19d7-4218-bef8-39f42b8894f2",
     "showTitle": false,
     "tableResultSettingsMap": {},
     "title": ""
    }
   },
   "outputs": [],
   "source": [
    "import pandas as pd\n",
    "\n",
    "evaluation_set = [\n",
    "    {  # query 1\n",
    "        \"request\": {\n",
    "            \"messages\": [\n",
    "                {\"role\": \"user\", \"content\": f\"what is lakehouse monitoring?\"},\n",
    "            ]\n",
    "        }\n",
    "    },\n",
    "    {  # query 2\n",
    "        \"request\": {\n",
    "            \"messages\": [\n",
    "                {\"role\": \"user\", \"content\": f\"what is rag?\"},\n",
    "            ]\n",
    "        }\n",
    "    },\n",
    "    # add more queries here\n",
    "]\n",
    "\n",
    "# `run_name` provides a human-readable name for this vibe check in the MLflow experiment\n",
    "with mlflow.start_run(\n",
    "    run_name=\"vibe-check__\" + datetime.now().strftime(\"%Y-%m-%d_%I:%M:%S_%p\")\n",
    "):\n",
    "    # Log the current Agent code/config to MLflow\n",
    "    logged_agent_info = log_agent_to_mlflow()\n",
    "\n",
    "    # Run the agent for these queries, using Agent evaluation to parallelize the calls\n",
    "    eval_results = mlflow.evaluate(\n",
    "        model=logged_agent_info.model_uri,  # use the logged Agent\n",
    "        data=pd.DataFrame(\n",
    "            evaluation_set\n",
    "        ),  # Run the logged Agent for all queries defined above\n",
    "        model_type=\"databricks-agent\",  # use Agent Evaluation\n",
    "    )\n",
    "\n",
    "    # Show all outputs.  Click on a row in this table to display the MLflow Trace.\n",
    "    display(eval_results.tables[\"eval_results\"])\n",
    "\n",
    "    # Click 'View Evaluation Results' to see the Agent's inputs/outputs + quality evaluation displayed in a UI"
   ]
  },
  {
   "cell_type": "markdown",
   "metadata": {
    "application/vnd.databricks.v1+cell": {
     "cellMetadata": {},
     "inputWidgets": {},
     "nuid": "387a1897-e84e-40af-a3ba-d94089f3b19f",
     "showTitle": false,
     "tableResultSettingsMap": {},
     "title": ""
    }
   },
   "source": [
    "#### ✅✏️ 🅲 Evaluate the Agent using your evaluation set\n",
    "\n",
    "Note: If this is your first time creating this agent, this cell will not work.  The evaluation set is populated in the next notebooks using stakeholder feedback."
   ]
  },
  {
   "cell_type": "code",
   "execution_count": 0,
   "metadata": {
    "application/vnd.databricks.v1+cell": {
     "cellMetadata": {},
     "inputWidgets": {},
     "nuid": "e609b8b0-73d1-4651-86c8-7d5bcd262826",
     "showTitle": false,
     "tableResultSettingsMap": {},
     "title": ""
    }
   },
   "outputs": [],
   "source": [
    "# Load the evaluation set from Delta Table\n",
    "evaluation_set = spark.table(cookbook_shared_config.evaluation_set_table).toPandas()\n",
    "\n",
    "# `run_name` provides a human-readable name for this vibe check in the MLflow experiment\n",
    "with mlflow.start_run(\n",
    "    run_name=\"evaluation__\" + datetime.now().strftime(\"%Y-%m-%d_%I:%M:%S_%p\")\n",
    "):\n",
    "    # Log the current Agent code/config to MLflow\n",
    "    logged_agent_info = log_agent_to_mlflow()\n",
    "\n",
    "    # Run the agent for these queries, using Agent evaluation to parallelize the calls\n",
    "    eval_results = mlflow.evaluate(\n",
    "        model=logged_agent_info.model_uri,  # use the logged Agent\n",
    "        data=evaluation_set,  # Run the logged Agent for all queries defined above\n",
    "        model_type=\"databricks-agent\",  # use Agent Evaluation\n",
    "    )\n",
    "\n",
    "    # Show all outputs.  Click on a row in this table to display the MLflow Trace.\n",
    "    display(eval_results.tables[\"eval_results\"])\n",
    "\n",
    "    # Click 'View Evaluation Results' to see the Agent's inputs/outputs + quality evaluation displayed in a UI"
   ]
  },
  {
   "cell_type": "markdown",
   "metadata": {
    "application/vnd.databricks.v1+cell": {
     "cellMetadata": {},
     "inputWidgets": {},
     "nuid": "a66ca2d1-4fc7-440f-85d2-b2c3e84da74f",
     "showTitle": false,
     "tableResultSettingsMap": {},
     "title": ""
    }
   },
   "source": [
    "## 3️⃣ Register a version of the Agent to Unity Catalog\n",
    "\n",
    "Once you have a version of your Agent that has sufficient quality, you will register the Agent's model from the MLflow Experiment into the Unity Catalog.  This allows you to use the next notebooks to deploy the Agent to Agent Evaluation's Review App to share it with stakeholders & collect feedback.\n",
    "\n",
    "You can register a version in two ways:\n",
    "1. Register an Agent version that you logged above\n",
    "2. Log the latest version of the Agent and then register it"
   ]
  },
  {
   "cell_type": "markdown",
   "metadata": {
    "application/vnd.databricks.v1+cell": {
     "cellMetadata": {},
     "inputWidgets": {},
     "nuid": "11cecd39-869d-4874-b9e0-fb5ccd236a48",
     "showTitle": false,
     "tableResultSettingsMap": {},
     "title": ""
    }
   },
   "source": [
    "##### ✅✏️ Option 1. Register an Agent that you logged above\n",
    "\n",
    "1. Set the MLflow model's URI in the below cell by either\n",
    "  - *(Suggested)* If you haven't modified the above code, the `model_uri` from the last logged Agent is stored in the local variable `logged_agent_info.model_uri`.\n",
    "  - If you want to register a different version:\n",
    "    - Go the MLflow experiment UI, click on the Run containing the Agent version, and find the Run ID in the Overview tab --> Details section.\n",
    "    - Your `model_uri` is `runs:/b5b9436a56544263a97ddd2293e6f422/agent` where `b5b9436a56544263a97ddd2293e6f422` is the Run ID.\n",
    "\n",
    "2. Run the below cell to register the model to Unity Catalog\n",
    "3. Note the version of the Unity Catalog model - you will need this in the next notebook to deploy this Agent."
   ]
  },
  {
   "cell_type": "code",
   "execution_count": 0,
   "metadata": {
    "application/vnd.databricks.v1+cell": {
     "cellMetadata": {},
     "inputWidgets": {},
     "nuid": "b08f692d-9f20-45a2-a590-5d5423cf3406",
     "showTitle": false,
     "tableResultSettingsMap": {},
     "title": ""
    }
   },
   "outputs": [],
   "source": [
    "# Enter the model_uri of the Agent version to be registered\n",
    "model_uri_to_register = logged_agent_info.model_uri  # last Agent logged\n",
    "\n",
    "# Register a different Agent version\n",
    "# model_uri_to_register = \"runs:/run_id_goes_here/agent\" # pick an Agent version\n",
    "\n",
    "# Use Unity Catalog as the model registry\n",
    "mlflow.set_registry_uri(\"databricks-uc\")\n",
    "\n",
    "# Register the Agent's model to the Unity Catalog\n",
    "uc_registered_model_info = mlflow.register_model(\n",
    "    model_uri=model_uri_to_register, name=cookbook_shared_config.uc_model\n",
    ")\n",
    "\n",
    "# Print the version number\n",
    "display_markdown(\n",
    "    f\"### Unity Catalog model version: **{uc_registered_model_info.version}**\", raw=True\n",
    ")"
   ]
  },
  {
   "cell_type": "markdown",
   "metadata": {
    "application/vnd.databricks.v1+cell": {
     "cellMetadata": {},
     "inputWidgets": {},
     "nuid": "89715f12-6ff3-4d6a-b5bc-4a4acdfea011",
     "showTitle": false,
     "tableResultSettingsMap": {},
     "title": ""
    }
   },
   "source": [
    "##### ✅✏️ Option 2. Log the latest version of the Agent and register it.\n",
    "\n",
    "1. Optionally, give the version a short name in `agent_version_short_name` so you can easily identify it in the MLflow experiment later\n",
    "1. Run the below cell to log the Agent to a model inside an MLflow Run & register that model to Unity Catalog\n",
    "2. Note the version of the Unity Catalog model - you will need this in the next notebook to deploy this Agent."
   ]
  },
  {
   "cell_type": "code",
   "execution_count": 0,
   "metadata": {
    "application/vnd.databricks.v1+cell": {
     "cellMetadata": {},
     "inputWidgets": {},
     "nuid": "2a06c38b-db1a-47f5-a786-6d8dbeef85f1",
     "showTitle": false,
     "tableResultSettingsMap": {},
     "title": ""
    }
   },
   "outputs": [],
   "source": [
    "agent_version_short_name = \"friendly-name-to-identify-this-version\"  # set to None if you want MLflow to generate a name e.g., `aged-perch-556`\n",
    "\n",
    "with mlflow.start_run(run_name=agent_version_short_name):\n",
    "    # Log the current Agent code/config to MLflow\n",
    "    logged_agent_info = log_agent_to_mlflow()\n",
    "\n",
    "    # Use Unity Catalog as the model registry\n",
    "    mlflow.set_registry_uri(\"databricks-uc\")\n",
    "\n",
    "    # Register this model to the Unity Catalog\n",
    "    uc_registered_model_info = mlflow.register_model(\n",
    "        model_uri=logged_agent_info.model_uri, name=cookbook_shared_config.uc_model\n",
    "    )\n",
    "\n",
    "    # Print the version number\n",
    "    display_markdown(\n",
    "        f\"### Unity Catalog model version: **{uc_registered_model_info.version}**\",\n",
    "        raw=True,\n",
    "    )"
   ]
  }
 ],
 "metadata": {
  "application/vnd.databricks.v1+notebook": {
   "dashboards": [],
   "environmentMetadata": null,
   "language": "python",
   "notebookMetadata": {},
   "notebookName": "02_agent__function_calling_mlflow_sdk",
   "widgets": {}
  },
  "kernelspec": {
   "display_name": "genai-cookbook-T2SdtsNM-py3.11",
   "language": "python",
   "name": "python3"
  },
  "language_info": {
   "codemirror_mode": {
    "name": "ipython",
    "version": 3
   },
   "file_extension": ".py",
   "mimetype": "text/x-python",
   "name": "python",
   "nbconvert_exporter": "python",
   "pygments_lexer": "ipython3",
   "version": "3.11.10"
  }
 },
 "nbformat": 4,
 "nbformat_minor": 0
}
